{
 "cells": [
  {
   "cell_type": "markdown",
   "metadata": {},
   "source": [
    "## 1. Data Ingestion"
   ]
  },
  {
   "cell_type": "markdown",
   "metadata": {},
   "source": [
    "#### 1.1 Data import for the year of 2006"
   ]
  },
  {
   "cell_type": "code",
   "execution_count": 51,
   "metadata": {},
   "outputs": [],
   "source": [
    "import pandas as pd\n",
    "import re\n",
    "import uuid"
   ]
  },
  {
   "cell_type": "code",
   "execution_count": 52,
   "metadata": {},
   "outputs": [
    {
     "data": {
      "text/html": [
       "<div>\n",
       "<style scoped>\n",
       "    .dataframe tbody tr th:only-of-type {\n",
       "        vertical-align: middle;\n",
       "    }\n",
       "\n",
       "    .dataframe tbody tr th {\n",
       "        vertical-align: top;\n",
       "    }\n",
       "\n",
       "    .dataframe thead th {\n",
       "        text-align: right;\n",
       "    }\n",
       "</style>\n",
       "<table border=\"1\" class=\"dataframe\">\n",
       "  <thead>\n",
       "    <tr style=\"text-align: right;\">\n",
       "      <th></th>\n",
       "      <th>BlockName</th>\n",
       "      <th>Category</th>\n",
       "      <th>Year</th>\n",
       "      <th>Month</th>\n",
       "      <th>Day</th>\n",
       "      <th>Crop</th>\n",
       "      <th>DistrictName</th>\n",
       "      <th>QueryType</th>\n",
       "      <th>Season</th>\n",
       "      <th>Sector</th>\n",
       "      <th>StateName</th>\n",
       "      <th>QueryText</th>\n",
       "      <th>KccAns</th>\n",
       "      <th>latitude</th>\n",
       "      <th>longitude</th>\n",
       "    </tr>\n",
       "  </thead>\n",
       "  <tbody>\n",
       "    <tr>\n",
       "      <th>0</th>\n",
       "      <td>PONDURU</td>\n",
       "      <td>Pulses</td>\n",
       "      <td>2024</td>\n",
       "      <td>1</td>\n",
       "      <td>1</td>\n",
       "      <td>Green Gram Moong Bean Moong</td>\n",
       "      <td>SRIKAKULAM</td>\n",
       "      <td>Nutrient Management</td>\n",
       "      <td>NaN</td>\n",
       "      <td>AGRICULTURE</td>\n",
       "      <td>ANDHRA PRADESH</td>\n",
       "      <td>FARMER ASKED QUERY ON NUTRIENT MANAGEMENT IN g...</td>\n",
       "      <td>RECOMMENDED TO SPRAY BORAX 3 GRAMS 1 LITR OF ...</td>\n",
       "      <td>18.2949</td>\n",
       "      <td>83.8939</td>\n",
       "    </tr>\n",
       "    <tr>\n",
       "      <th>1</th>\n",
       "      <td>GARA</td>\n",
       "      <td>Millets</td>\n",
       "      <td>2024</td>\n",
       "      <td>1</td>\n",
       "      <td>1</td>\n",
       "      <td>Maize Makka</td>\n",
       "      <td>SRIKAKULAM</td>\n",
       "      <td>Plant Protection</td>\n",
       "      <td>NaN</td>\n",
       "      <td>AGRICULTURE</td>\n",
       "      <td>ANDHRA PRADESH</td>\n",
       "      <td>FARMER ASKED QUERY ON USAGE OF NEEM OIL IN MAIZE</td>\n",
       "      <td>RECOMMENDED TO SPRAY AZADIRHACHTIN NEEM  OIL 1...</td>\n",
       "      <td>18.2949</td>\n",
       "      <td>83.8939</td>\n",
       "    </tr>\n",
       "  </tbody>\n",
       "</table>\n",
       "</div>"
      ],
      "text/plain": [
       "  BlockName Category  Year  Month  Day                         Crop  \\\n",
       "0   PONDURU   Pulses  2024      1    1  Green Gram Moong Bean Moong   \n",
       "1      GARA  Millets  2024      1    1                  Maize Makka   \n",
       "\n",
       "  DistrictName            QueryType  Season       Sector       StateName  \\\n",
       "0   SRIKAKULAM  Nutrient Management     NaN  AGRICULTURE  ANDHRA PRADESH   \n",
       "1   SRIKAKULAM     Plant Protection     NaN  AGRICULTURE  ANDHRA PRADESH   \n",
       "\n",
       "                                           QueryText  \\\n",
       "0  FARMER ASKED QUERY ON NUTRIENT MANAGEMENT IN g...   \n",
       "1   FARMER ASKED QUERY ON USAGE OF NEEM OIL IN MAIZE   \n",
       "\n",
       "                                              KccAns  latitude  longitude  \n",
       "0   RECOMMENDED TO SPRAY BORAX 3 GRAMS 1 LITR OF ...   18.2949    83.8939  \n",
       "1  RECOMMENDED TO SPRAY AZADIRHACHTIN NEEM  OIL 1...   18.2949    83.8939  "
      ]
     },
     "execution_count": 52,
     "metadata": {},
     "output_type": "execute_result"
    }
   ],
   "source": [
    "df = pd.read_csv(r\"D:\\Data Science Projects\\datasets\\Year_2024_dataset.csv\")\n",
    "df.head(2)"
   ]
  },
  {
   "cell_type": "markdown",
   "metadata": {},
   "source": [
    "#### 1.2 Clean, normalize, and split into logical “document” chunks or Q&A pairs."
   ]
  },
  {
   "cell_type": "markdown",
   "metadata": {},
   "source": [
    "####  EDA"
   ]
  },
  {
   "cell_type": "code",
   "execution_count": 53,
   "metadata": {},
   "outputs": [
    {
     "name": "stdout",
     "output_type": "stream",
     "text": [
      "🔹 Dataset shape: (3234061, 15)\n"
     ]
    }
   ],
   "source": [
    "print(\"🔹 Dataset shape:\", df.shape)"
   ]
  },
  {
   "cell_type": "code",
   "execution_count": 54,
   "metadata": {},
   "outputs": [
    {
     "name": "stdout",
     "output_type": "stream",
     "text": [
      "\n",
      "🔹 Null values per column:\n",
      "BlockName            44\n",
      "Category              0\n",
      "Year                  0\n",
      "Month                 0\n",
      "Day                   0\n",
      "Crop                  0\n",
      "DistrictName          0\n",
      "QueryType             0\n",
      "Season          3234061\n",
      "Sector                0\n",
      "StateName             0\n",
      "QueryText            21\n",
      "KccAns              750\n",
      "latitude              0\n",
      "longitude             0\n",
      "dtype: int64\n"
     ]
    }
   ],
   "source": [
    "print(\"\\n🔹 Null values per column:\")\n",
    "print(df.isnull().sum())"
   ]
  },
  {
   "cell_type": "code",
   "execution_count": 55,
   "metadata": {},
   "outputs": [
    {
     "name": "stdout",
     "output_type": "stream",
     "text": [
      "\n",
      "🔹 Unique value counts:\n",
      "BlockName: 6126\n",
      "Category: 22\n",
      "Year: 1\n",
      "Month: 12\n",
      "Day: 31\n",
      "Crop: 297\n",
      "DistrictName: 668\n",
      "QueryType: 65\n",
      "Season: 0\n",
      "Sector: 4\n",
      "StateName: 32\n",
      "QueryText: 698092\n",
      "KccAns: 1292215\n",
      "latitude: 649\n",
      "longitude: 647\n"
     ]
    }
   ],
   "source": [
    "# Unique values in each column\n",
    "print(\"\\n🔹 Unique value counts:\")\n",
    "for col in df.columns:\n",
    "    print(f\"{col}: {df[col].nunique()}\")"
   ]
  },
  {
   "cell_type": "code",
   "execution_count": 56,
   "metadata": {},
   "outputs": [
    {
     "name": "stdout",
     "output_type": "stream",
     "text": [
      "\n",
      "🔹 Top 10 States:\n",
      "StateName\n",
      "UTTAR PRADESH     536021\n",
      "RAJASTHAN         431179\n",
      "MADHYA PRADESH    345544\n",
      "HARYANA           236464\n",
      "MAHARASHTRA       220050\n",
      "BIHAR             195627\n",
      "GUJARAT           183659\n",
      "WEST BENGAL       166475\n",
      "TAMILNADU         157176\n",
      "PUNJAB            147633\n",
      "Name: count, dtype: int64\n"
     ]
    }
   ],
   "source": [
    " ## Distribution of some key categorical columns\n",
    "print(\"\\n🔹 Top 10 States:\")\n",
    "print(df['StateName'].value_counts().head(10))"
   ]
  },
  {
   "cell_type": "markdown",
   "metadata": {},
   "source": []
  },
  {
   "cell_type": "code",
   "execution_count": 57,
   "metadata": {},
   "outputs": [
    {
     "name": "stdout",
     "output_type": "stream",
     "text": [
      "Crop\n",
      "Others                          1300332\n",
      "Paddy Dhan                       408910\n",
      "Wheat                            224229\n",
      "Cotton Kapas                      91734\n",
      "Groundnut pea nutmung phalli      80240\n",
      "Soybean bhat                      74237\n",
      "Maize Makka                       66959\n",
      "Green Gram Moong Bean Moong       59394\n",
      "Mustard                           51492\n",
      "Potato                            47092\n",
      "Name: count, dtype: int64\n"
     ]
    }
   ],
   "source": [
    "#print(\"\\n🔹 Top 10 Crops:\")\n",
    "print(df['Crop'].value_counts().head(10))"
   ]
  },
  {
   "cell_type": "markdown",
   "metadata": {},
   "source": [
    "#### Table cleaning "
   ]
  },
  {
   "cell_type": "code",
   "execution_count": 58,
   "metadata": {},
   "outputs": [
    {
     "name": "stdout",
     "output_type": "stream",
     "text": [
      "✅ Dropped 'Season' column.\n"
     ]
    }
   ],
   "source": [
    "# Drop the 'Season' column due to high missingness\n",
    "df.drop(columns=['Season'], inplace=True)\n",
    "\n",
    "print(\"✅ Dropped 'Season' column.\")"
   ]
  },
  {
   "cell_type": "code",
   "execution_count": 59,
   "metadata": {},
   "outputs": [
    {
     "name": "stdout",
     "output_type": "stream",
     "text": [
      "🔹 Dataset shape: (3234061, 14)\n"
     ]
    }
   ],
   "source": [
    "print(\"🔹 Dataset shape:\", df.shape)"
   ]
  },
  {
   "cell_type": "code",
   "execution_count": 60,
   "metadata": {},
   "outputs": [
    {
     "name": "stdout",
     "output_type": "stream",
     "text": [
      "🧪 Any NaNs? True\n"
     ]
    }
   ],
   "source": [
    "print(\"🧪 Any NaNs?\", df.isnull().values.any())\n"
   ]
  },
  {
   "cell_type": "code",
   "execution_count": 61,
   "metadata": {},
   "outputs": [
    {
     "name": "stdout",
     "output_type": "stream",
     "text": [
      "✅ Dropped rows with NaN values. New shape: (3233249, 14)\n"
     ]
    }
   ],
   "source": [
    "# Drop rows that contain any NaN values\n",
    "df.dropna(inplace=True)\n",
    "\n",
    "print(f\"✅ Dropped rows with NaN values. New shape: {df.shape}\")\n"
   ]
  },
  {
   "cell_type": "code",
   "execution_count": 62,
   "metadata": {},
   "outputs": [
    {
     "name": "stdout",
     "output_type": "stream",
     "text": [
      "🧪 Any NaNs left? False\n"
     ]
    }
   ],
   "source": [
    "print(\"🧪 Any NaNs left?\", df.isnull().values.any())\n"
   ]
  },
  {
   "cell_type": "code",
   "execution_count": 63,
   "metadata": {},
   "outputs": [
    {
     "data": {
      "text/html": [
       "<div>\n",
       "<style scoped>\n",
       "    .dataframe tbody tr th:only-of-type {\n",
       "        vertical-align: middle;\n",
       "    }\n",
       "\n",
       "    .dataframe tbody tr th {\n",
       "        vertical-align: top;\n",
       "    }\n",
       "\n",
       "    .dataframe thead th {\n",
       "        text-align: right;\n",
       "    }\n",
       "</style>\n",
       "<table border=\"1\" class=\"dataframe\">\n",
       "  <thead>\n",
       "    <tr style=\"text-align: right;\">\n",
       "      <th></th>\n",
       "      <th>BlockName</th>\n",
       "      <th>Category</th>\n",
       "      <th>Year</th>\n",
       "      <th>Month</th>\n",
       "      <th>Day</th>\n",
       "      <th>Crop</th>\n",
       "      <th>DistrictName</th>\n",
       "      <th>QueryType</th>\n",
       "      <th>Sector</th>\n",
       "      <th>StateName</th>\n",
       "      <th>QueryText</th>\n",
       "      <th>KccAns</th>\n",
       "      <th>latitude</th>\n",
       "      <th>longitude</th>\n",
       "    </tr>\n",
       "  </thead>\n",
       "  <tbody>\n",
       "    <tr>\n",
       "      <th>0</th>\n",
       "      <td>PONDURU</td>\n",
       "      <td>Pulses</td>\n",
       "      <td>2024</td>\n",
       "      <td>1</td>\n",
       "      <td>1</td>\n",
       "      <td>Green Gram Moong Bean Moong</td>\n",
       "      <td>SRIKAKULAM</td>\n",
       "      <td>Nutrient Management</td>\n",
       "      <td>AGRICULTURE</td>\n",
       "      <td>ANDHRA PRADESH</td>\n",
       "      <td>FARMER ASKED QUERY ON NUTRIENT MANAGEMENT IN g...</td>\n",
       "      <td>RECOMMENDED TO SPRAY BORAX 3 GRAMS 1 LITR OF ...</td>\n",
       "      <td>18.2949</td>\n",
       "      <td>83.8939</td>\n",
       "    </tr>\n",
       "    <tr>\n",
       "      <th>1</th>\n",
       "      <td>GARA</td>\n",
       "      <td>Millets</td>\n",
       "      <td>2024</td>\n",
       "      <td>1</td>\n",
       "      <td>1</td>\n",
       "      <td>Maize Makka</td>\n",
       "      <td>SRIKAKULAM</td>\n",
       "      <td>Plant Protection</td>\n",
       "      <td>AGRICULTURE</td>\n",
       "      <td>ANDHRA PRADESH</td>\n",
       "      <td>FARMER ASKED QUERY ON USAGE OF NEEM OIL IN MAIZE</td>\n",
       "      <td>RECOMMENDED TO SPRAY AZADIRHACHTIN NEEM  OIL 1...</td>\n",
       "      <td>18.2949</td>\n",
       "      <td>83.8939</td>\n",
       "    </tr>\n",
       "    <tr>\n",
       "      <th>2</th>\n",
       "      <td>PONDURU</td>\n",
       "      <td>Pulses</td>\n",
       "      <td>2024</td>\n",
       "      <td>1</td>\n",
       "      <td>1</td>\n",
       "      <td>Green Gram Moong Bean Moong</td>\n",
       "      <td>SRIKAKULAM</td>\n",
       "      <td>Plant Protection</td>\n",
       "      <td>AGRICULTURE</td>\n",
       "      <td>ANDHRA PRADESH</td>\n",
       "      <td>GREEN GRAM LEAF EATING CATERPILLAR MANAGEMENT</td>\n",
       "      <td>500     200</td>\n",
       "      <td>18.2949</td>\n",
       "      <td>83.8939</td>\n",
       "    </tr>\n",
       "    <tr>\n",
       "      <th>3</th>\n",
       "      <td>MANDASA</td>\n",
       "      <td>Vegetables</td>\n",
       "      <td>2024</td>\n",
       "      <td>1</td>\n",
       "      <td>1</td>\n",
       "      <td>Tomato</td>\n",
       "      <td>SRIKAKULAM</td>\n",
       "      <td>Fertilizer Use and Availability</td>\n",
       "      <td>HORTICULTURE</td>\n",
       "      <td>ANDHRA PRADESH</td>\n",
       "      <td>FARMER ASKED QUERY ON FERTILIZER MANAGEMENT IN...</td>\n",
       "      <td>RECOMMENDED TO FERTILISERS: UREA 30KGDAP- 50 K...</td>\n",
       "      <td>18.2949</td>\n",
       "      <td>83.8939</td>\n",
       "    </tr>\n",
       "    <tr>\n",
       "      <th>4</th>\n",
       "      <td>MANDASA</td>\n",
       "      <td>Vegetables</td>\n",
       "      <td>2024</td>\n",
       "      <td>1</td>\n",
       "      <td>1</td>\n",
       "      <td>Tomato</td>\n",
       "      <td>SRIKAKULAM</td>\n",
       "      <td>Cultural Practices</td>\n",
       "      <td>HORTICULTURE</td>\n",
       "      <td>ANDHRA PRADESH</td>\n",
       "      <td>FARMER ASKED QUERY ON WEED  MANAGEMENT IN  TOM...</td>\n",
       "      <td>RECOMMENDED TO SPRAY ATRAZINE ATRATOPSOLARO 1 ...</td>\n",
       "      <td>18.2949</td>\n",
       "      <td>83.8939</td>\n",
       "    </tr>\n",
       "  </tbody>\n",
       "</table>\n",
       "</div>"
      ],
      "text/plain": [
       "  BlockName    Category  Year  Month  Day                         Crop  \\\n",
       "0   PONDURU      Pulses  2024      1    1  Green Gram Moong Bean Moong   \n",
       "1      GARA     Millets  2024      1    1                  Maize Makka   \n",
       "2   PONDURU      Pulses  2024      1    1  Green Gram Moong Bean Moong   \n",
       "3   MANDASA  Vegetables  2024      1    1                       Tomato   \n",
       "4   MANDASA  Vegetables  2024      1    1                       Tomato   \n",
       "\n",
       "  DistrictName                        QueryType        Sector       StateName  \\\n",
       "0   SRIKAKULAM              Nutrient Management   AGRICULTURE  ANDHRA PRADESH   \n",
       "1   SRIKAKULAM                 Plant Protection   AGRICULTURE  ANDHRA PRADESH   \n",
       "2   SRIKAKULAM                 Plant Protection   AGRICULTURE  ANDHRA PRADESH   \n",
       "3   SRIKAKULAM  Fertilizer Use and Availability  HORTICULTURE  ANDHRA PRADESH   \n",
       "4   SRIKAKULAM               Cultural Practices  HORTICULTURE  ANDHRA PRADESH   \n",
       "\n",
       "                                           QueryText  \\\n",
       "0  FARMER ASKED QUERY ON NUTRIENT MANAGEMENT IN g...   \n",
       "1   FARMER ASKED QUERY ON USAGE OF NEEM OIL IN MAIZE   \n",
       "2      GREEN GRAM LEAF EATING CATERPILLAR MANAGEMENT   \n",
       "3  FARMER ASKED QUERY ON FERTILIZER MANAGEMENT IN...   \n",
       "4  FARMER ASKED QUERY ON WEED  MANAGEMENT IN  TOM...   \n",
       "\n",
       "                                              KccAns  latitude  longitude  \n",
       "0   RECOMMENDED TO SPRAY BORAX 3 GRAMS 1 LITR OF ...   18.2949    83.8939  \n",
       "1  RECOMMENDED TO SPRAY AZADIRHACHTIN NEEM  OIL 1...   18.2949    83.8939  \n",
       "2                              500     200             18.2949    83.8939  \n",
       "3  RECOMMENDED TO FERTILISERS: UREA 30KGDAP- 50 K...   18.2949    83.8939  \n",
       "4  RECOMMENDED TO SPRAY ATRAZINE ATRATOPSOLARO 1 ...   18.2949    83.8939  "
      ]
     },
     "execution_count": 63,
     "metadata": {},
     "output_type": "execute_result"
    }
   ],
   "source": [
    "df.head()"
   ]
  },
  {
   "cell_type": "code",
   "execution_count": 64,
   "metadata": {},
   "outputs": [],
   "source": [
    "# Normalize text fields (lowercase, strip, basic cleaning)\n",
    "def clean_text(text):\n",
    "    if pd.isna(text):\n",
    "        return \"\"\n",
    "    text = text.lower().strip()\n",
    "    text = re.sub(r'\\s+', ' ', text)  # remove extra whitespace\n",
    "    text = re.sub(r'[^a-z0-9\\s.,]', '', text)  # basic character filtering\n",
    "    return text\n",
    "\n",
    "df['QueryText'] = df['QueryText'].apply(clean_text)\n",
    "df['KccAns'] = df['KccAns'].apply(clean_text)\n",
    "\n",
    "\n",
    "#  normalize categorical fields (strip & lowercase)\n",
    "for col in ['Crop', 'DistrictName', 'Category', 'QueryType', 'Sector', 'StateName']:\n",
    "    df[col] = df[col].astype(str).str.lower().str.strip()"
   ]
  },
  {
   "cell_type": "code",
   "execution_count": 65,
   "metadata": {},
   "outputs": [],
   "source": [
    "metadata_cols = ['StateName', 'DistrictName', 'Crop', 'Category', 'QueryType', 'Sector', 'Year', 'Month', 'Day']"
   ]
  },
  {
   "cell_type": "code",
   "execution_count": 66,
   "metadata": {},
   "outputs": [],
   "source": [
    "# Function to create a single document\n",
    "def make_qa_doc(row):\n",
    "    return {\n",
    "        \"doc_id\": str(uuid.uuid4()),  # unique ID\n",
    "        \"query\": row['QueryText'],\n",
    "        \"answer\": row['KccAns'],\n",
    "        \"metadata\": {col: row[col] for col in metadata_cols}\n",
    "    }\n",
    "    \n",
    "# Apply transformation\n",
    "qa_docs = df.apply(make_qa_doc, axis=1).tolist()"
   ]
  },
  {
   "cell_type": "code",
   "execution_count": 67,
   "metadata": {},
   "outputs": [
    {
     "data": {
      "text/html": [
       "<div>\n",
       "<style scoped>\n",
       "    .dataframe tbody tr th:only-of-type {\n",
       "        vertical-align: middle;\n",
       "    }\n",
       "\n",
       "    .dataframe tbody tr th {\n",
       "        vertical-align: top;\n",
       "    }\n",
       "\n",
       "    .dataframe thead th {\n",
       "        text-align: right;\n",
       "    }\n",
       "</style>\n",
       "<table border=\"1\" class=\"dataframe\">\n",
       "  <thead>\n",
       "    <tr style=\"text-align: right;\">\n",
       "      <th></th>\n",
       "      <th>doc_id</th>\n",
       "      <th>query</th>\n",
       "      <th>answer</th>\n",
       "      <th>metadata</th>\n",
       "    </tr>\n",
       "  </thead>\n",
       "  <tbody>\n",
       "    <tr>\n",
       "      <th>0</th>\n",
       "      <td>0582d804-19ae-41be-94f6-a0ab80188561</td>\n",
       "      <td>farmer asked query on nutrient management in g...</td>\n",
       "      <td>recommended to spray borax 3 grams 1 litr of w...</td>\n",
       "      <td>{'StateName': 'andhra pradesh', 'DistrictName'...</td>\n",
       "    </tr>\n",
       "    <tr>\n",
       "      <th>1</th>\n",
       "      <td>16aff8f2-94a1-4db5-8538-6e244b2a3ec4</td>\n",
       "      <td>farmer asked query on usage of neem oil in maize</td>\n",
       "      <td>recommended to spray azadirhachtin neem oil 1 ...</td>\n",
       "      <td>{'StateName': 'andhra pradesh', 'DistrictName'...</td>\n",
       "    </tr>\n",
       "    <tr>\n",
       "      <th>2</th>\n",
       "      <td>9d7cac83-0f0c-405a-b8ef-4bfdb2d278fb</td>\n",
       "      <td>green gram leaf eating caterpillar management</td>\n",
       "      <td>500 200</td>\n",
       "      <td>{'StateName': 'andhra pradesh', 'DistrictName'...</td>\n",
       "    </tr>\n",
       "    <tr>\n",
       "      <th>3</th>\n",
       "      <td>4e73d41d-31c8-475a-a87b-4d9afe064756</td>\n",
       "      <td>farmer asked query on fertilizer management in...</td>\n",
       "      <td>recommended to fertilisers urea 30kgdap 50 kg ...</td>\n",
       "      <td>{'StateName': 'andhra pradesh', 'DistrictName'...</td>\n",
       "    </tr>\n",
       "    <tr>\n",
       "      <th>4</th>\n",
       "      <td>b332b768-87f0-47c9-89b5-77c84e70841f</td>\n",
       "      <td>farmer asked query on weed management in tomato</td>\n",
       "      <td>recommended to spray atrazine atratopsolaro 1 ...</td>\n",
       "      <td>{'StateName': 'andhra pradesh', 'DistrictName'...</td>\n",
       "    </tr>\n",
       "  </tbody>\n",
       "</table>\n",
       "</div>"
      ],
      "text/plain": [
       "                                 doc_id  \\\n",
       "0  0582d804-19ae-41be-94f6-a0ab80188561   \n",
       "1  16aff8f2-94a1-4db5-8538-6e244b2a3ec4   \n",
       "2  9d7cac83-0f0c-405a-b8ef-4bfdb2d278fb   \n",
       "3  4e73d41d-31c8-475a-a87b-4d9afe064756   \n",
       "4  b332b768-87f0-47c9-89b5-77c84e70841f   \n",
       "\n",
       "                                               query  \\\n",
       "0  farmer asked query on nutrient management in g...   \n",
       "1   farmer asked query on usage of neem oil in maize   \n",
       "2      green gram leaf eating caterpillar management   \n",
       "3  farmer asked query on fertilizer management in...   \n",
       "4    farmer asked query on weed management in tomato   \n",
       "\n",
       "                                              answer  \\\n",
       "0  recommended to spray borax 3 grams 1 litr of w...   \n",
       "1  recommended to spray azadirhachtin neem oil 1 ...   \n",
       "2                                            500 200   \n",
       "3  recommended to fertilisers urea 30kgdap 50 kg ...   \n",
       "4  recommended to spray atrazine atratopsolaro 1 ...   \n",
       "\n",
       "                                            metadata  \n",
       "0  {'StateName': 'andhra pradesh', 'DistrictName'...  \n",
       "1  {'StateName': 'andhra pradesh', 'DistrictName'...  \n",
       "2  {'StateName': 'andhra pradesh', 'DistrictName'...  \n",
       "3  {'StateName': 'andhra pradesh', 'DistrictName'...  \n",
       "4  {'StateName': 'andhra pradesh', 'DistrictName'...  "
      ]
     },
     "execution_count": 67,
     "metadata": {},
     "output_type": "execute_result"
    }
   ],
   "source": [
    "qa_df = pd.DataFrame(qa_docs)\n",
    "qa_df.head()"
   ]
  },
  {
   "cell_type": "code",
   "execution_count": 68,
   "metadata": {},
   "outputs": [
    {
     "name": "stdout",
     "output_type": "stream",
     "text": [
      "✅ Q&A chunks saved to 'kcc_qa_clean.json'\n"
     ]
    }
   ],
   "source": [
    "# Save preprocessed Q&A pairs to file\n",
    "qa_df.to_json(\"kcc_qa_clean.json\", orient=\"records\", lines=True)\n",
    "print(\"✅ Q&A chunks saved to 'kcc_qa_clean.json'\")"
   ]
  },
  {
   "cell_type": "markdown",
   "metadata": {},
   "source": [
    "#### 1.4 Export both raw and preprocessed formats, preserving metadata fields."
   ]
  },
  {
   "cell_type": "code",
   "execution_count": 69,
   "metadata": {},
   "outputs": [
    {
     "name": "stdout",
     "output_type": "stream",
     "text": [
      "✅ Raw cleaned data saved as 'kcc_cleaned_raw.csv'\n"
     ]
    }
   ],
   "source": [
    "# Save the cleaned version of the original dataset (no Q&A restructuring)\n",
    "df.to_csv(\"kcc_cleaned_raw.csv\", index=False)\n",
    "print(\"✅ Raw cleaned data saved as 'kcc_cleaned_raw.csv'\")\n"
   ]
  },
  {
   "cell_type": "code",
   "execution_count": 70,
   "metadata": {},
   "outputs": [
    {
     "name": "stdout",
     "output_type": "stream",
     "text": [
      "✅ Preprocessed Q&A data also saved as 'kcc_qa_clean.csv'\n"
     ]
    }
   ],
   "source": [
    "# Also save as CSV for readability\n",
    "qa_df.to_csv(\"kcc_qa_clean.csv\", index=False)\n",
    "print(\"✅ Preprocessed Q&A data also saved as 'kcc_qa_clean.csv'\")\n"
   ]
  },
  {
   "cell_type": "markdown",
   "metadata": {},
   "source": [
    "## Task 02: Local LLM Deployment"
   ]
  },
  {
   "cell_type": "markdown",
   "metadata": {},
   "source": [
    "#### 2.1 Use an open-source model via the Ollama API (e.g., Gemma 3, Deepseek)."
   ]
  },
  {
   "cell_type": "code",
   "execution_count": 71,
   "metadata": {},
   "outputs": [],
   "source": [
    "import requests"
   ]
  },
  {
   "cell_type": "code",
   "execution_count": 72,
   "metadata": {},
   "outputs": [
    {
     "name": "stdout",
     "output_type": "stream",
     "text": [
      "Streaming response from Ollama:\n",
      "The capital of Andhra Pradesh is **Amaravati**.\n",
      "\n",
      "While the state has had several capitals throughout its history, Amaravati is generally considered the current and most recognized capital.\n",
      "\n"
     ]
    }
   ],
   "source": [
    "import requests\n",
    "import json\n",
    "\n",
    "# Set up the base URL for the local Ollama API\n",
    "url = \"http://localhost:11434/api/chat\"\n",
    "\n",
    "# Define the payload (your input prompt)\n",
    "payload = {\n",
    "    \"model\": \"gemma3:1b\",  # Replace with the model name you're using\n",
    "    \"messages\": [{\"role\": \"user\", \"content\": \"what is the capital of Andhra Pradesh?\"}]\n",
    "}\n",
    "\n",
    "# Send the HTTP POST request with streaming enabled\n",
    "response = requests.post(url, json=payload, stream=True)\n",
    "\n",
    "# Check the response status\n",
    "if response.status_code == 200:\n",
    "    print(\"Streaming response from Ollama:\")\n",
    "    for line in response.iter_lines(decode_unicode=True):\n",
    "        if line:  # Ignore empty lines\n",
    "            try:\n",
    "                # Parse each line as a JSON object\n",
    "                json_data = json.loads(line)\n",
    "                # Extract and print the assistant's message content\n",
    "                if \"message\" in json_data and \"content\" in json_data[\"message\"]:\n",
    "                    print(json_data[\"message\"][\"content\"], end=\"\")\n",
    "            except json.JSONDecodeError:\n",
    "                print(f\"\\nFailed to parse line: {line}\")\n",
    "    print()  # Ensure the final output ends with a newline\n",
    "else:\n",
    "    print(f\"Error: {response.status_code}\")\n",
    "    print(response.text)"
   ]
  },
  {
   "cell_type": "markdown",
   "metadata": {},
   "source": [
    "#### trying out ollama python package"
   ]
  },
  {
   "cell_type": "code",
   "execution_count": 73,
   "metadata": {},
   "outputs": [],
   "source": [
    "import ollama"
   ]
  },
  {
   "cell_type": "code",
   "execution_count": 74,
   "metadata": {},
   "outputs": [],
   "source": [
    "client = ollama.Client()\n",
    "model = \"gemma3:1b\""
   ]
  },
  {
   "cell_type": "code",
   "execution_count": 75,
   "metadata": {},
   "outputs": [],
   "source": [
    "response = client.generate(model, prompt = \"what are the two crop seasons in Andhra Pradesh?\")"
   ]
  },
  {
   "cell_type": "code",
   "execution_count": 76,
   "metadata": {},
   "outputs": [
    {
     "data": {
      "text/plain": [
       "\"The two major crop seasons in Andhra Pradesh are:\\n\\n1.  **Puli & Panna (Rice & Sugarcane):** This is the most significant crop season in Andhra Pradesh. It’s a massive undertaking involving rice cultivation (Puli) and sugarcane harvesting (Panna). The timing of this season varies slightly each year, typically spanning from **October to March**. It's a crucial period for the state's agricultural economy.\\n\\n2.  **Harirama (Cotton):** This is the second major crop season in Andhra Pradesh, predominantly focused on cotton cultivation. The season typically runs from **March to September**. \\n\\n**Important Note:** While these are the two most prominent, other crops like lentils, pulses, and vegetables also contribute significantly to the agricultural calendar.\\n\\nDo you want to know more about either of these seasons – perhaps about specific crops grown during them or the economic significance of each?\""
      ]
     },
     "execution_count": 76,
     "metadata": {},
     "output_type": "execute_result"
    }
   ],
   "source": [
    "response.response"
   ]
  },
  {
   "cell_type": "markdown",
   "metadata": {},
   "source": [
    "## 3. Retrieval-Augmented Generation (RAG)"
   ]
  },
  {
   "cell_type": "markdown",
   "metadata": {},
   "source": [
    "#### 3.1 Generate Embeddings from Document Chunks"
   ]
  },
  {
   "cell_type": "code",
   "execution_count": 77,
   "metadata": {},
   "outputs": [],
   "source": [
    "# !pip install sentence-transformers"
   ]
  },
  {
   "cell_type": "code",
   "execution_count": 80,
   "metadata": {},
   "outputs": [],
   "source": [
    "from sentence_transformers import SentenceTransformer\n",
    "import numpy as np\n",
    "import tqdm as notebook_tqdm"
   ]
  },
  {
   "cell_type": "code",
   "execution_count": 86,
   "metadata": {},
   "outputs": [],
   "source": [
    "# Sample 100 entries\n",
    "sample_df = qa_df.sample(n=100, random_state=42).reset_index(drop=True)\n",
    "\n",
    "# Combine question and answer into one chunk\n",
    "sample_df['text'] = sample_df['query'] + \" \" + sample_df['answer']\n"
   ]
  },
  {
   "cell_type": "code",
   "execution_count": 88,
   "metadata": {},
   "outputs": [
    {
     "name": "stderr",
     "output_type": "stream",
     "text": [
      "Batches: 100%|██████████| 4/4 [00:01<00:00,  3.64it/s]"
     ]
    },
    {
     "name": "stdout",
     "output_type": "stream",
     "text": [
      "✅ Embeddings shape: (100, 384)\n"
     ]
    },
    {
     "name": "stderr",
     "output_type": "stream",
     "text": [
      "\n"
     ]
    }
   ],
   "source": [
    "## generate embbedings\n",
    "\n",
    "# Load a small, fast embedding model\n",
    "model = SentenceTransformer('all-MiniLM-L6-v2')\n",
    "\n",
    "# Generate dense vector embeddings\n",
    "embeddings = model.encode(sample_df['text'].tolist(), show_progress_bar=True)\n",
    "\n",
    "# Convert to NumPy for compatibility with vector DBs\n",
    "embeddings = np.array(embeddings)\n",
    "\n",
    "# Confirm shape\n",
    "print(\"✅ Embeddings shape:\", embeddings.shape)\n"
   ]
  },
  {
   "cell_type": "markdown",
   "metadata": {},
   "source": [
    "#### 3.2 Store embeddings in a lightweight vector database (ChromaDB, FAISS, or MongoDB)."
   ]
  },
  {
   "cell_type": "code",
   "execution_count": 82,
   "metadata": {},
   "outputs": [],
   "source": [
    "# !pip install chromadb"
   ]
  },
  {
   "cell_type": "code",
   "execution_count": 91,
   "metadata": {},
   "outputs": [],
   "source": [
    "import chromadb\n",
    "from chromadb.config import Settings\n",
    "import chromadb.utils.embedding_functions as embedding_functions"
   ]
  },
  {
   "cell_type": "code",
   "execution_count": 93,
   "metadata": {},
   "outputs": [],
   "source": [
    "chroma_client = chromadb.Client()\n",
    "\n",
    "chroma_client = chromadb.PersistentClient(path=\"./chroma_store\")\n"
   ]
  },
  {
   "cell_type": "code",
   "execution_count": 94,
   "metadata": {},
   "outputs": [],
   "source": [
    "# Optional: remove existing collection (if rerunning)\n",
    "try:\n",
    "    chroma_client.delete_collection(\"kcc_embeddings\")\n",
    "except:\n",
    "    pass"
   ]
  },
  {
   "cell_type": "code",
   "execution_count": 95,
   "metadata": {},
   "outputs": [],
   "source": [
    "# Create embedding function wrapper\n",
    "embedding_fn = embedding_functions.SentenceTransformerEmbeddingFunction(model_name=\"all-MiniLM-L6-v2\")\n",
    "\n",
    "# Create new collection\n",
    "collection = chroma_client.create_collection(\n",
    "    name=\"kcc_embeddings\",\n",
    "    embedding_function=embedding_fn\n",
    ")"
   ]
  },
  {
   "cell_type": "code",
   "execution_count": 97,
   "metadata": {},
   "outputs": [
    {
     "name": "stdout",
     "output_type": "stream",
     "text": [
      "✅ Stored 100 embedded documents in ChromaDB.\n"
     ]
    }
   ],
   "source": [
    "# Prepare documents, metadatas, and IDs\n",
    "documents = sample_df['text'].tolist()\n",
    "metadatas = sample_df['metadata'].tolist()  # ← Fixed: removed eval\n",
    "ids = sample_df['doc_id'].tolist()\n",
    "\n",
    "# Add to Chroma\n",
    "collection.add(\n",
    "    documents=documents,\n",
    "    metadatas=metadatas,\n",
    "    ids=ids\n",
    ")\n",
    "\n",
    "print(\"✅ Stored 100 embedded documents in ChromaDB.\")"
   ]
  },
  {
   "cell_type": "code",
   "execution_count": null,
   "metadata": {},
   "outputs": [
    {
     "name": "stdout",
     "output_type": "stream",
     "text": [
      "🔎 Top results:\n",
      "→ information about shoot and fruit borer management in brinjal crop  25ec400 ml 200\n",
      "→ farmer want to know information about how to control stem borercaterpillar in brinjal crop 525 09 sc 30\n",
      "→ asked about management of gram pod borer in red gram suggested to spray emamectin benzoate 1gliter and 2000g200liter of water 1 2000 200\n"
     ]
    }
   ],
   "source": [
    "## Output: Sample Query\n",
    "results = collection.query(\n",
    "    query_texts=[\"how to control fruit borer in brinjal\"],\n",
    "    n_results=3\n",
    ")\n",
    "\n",
    "print(\"🔎 Top results:\")\n",
    "for doc in results['documents'][0]:\n",
    "    print(\"→\", doc)"
   ]
  },
  {
   "cell_type": "markdown",
   "metadata": {},
   "source": [
    "#### 3.3: Semantic Search using ChromaDB\n",
    "\n",
    "Encode the incoming query using the same SentenceTransformer model.\n",
    "\n",
    "Use ChromaDB’s query() method to retrieve the most relevant documents.\n",
    "\n",
    "Return both the matched text and the associated metadata."
   ]
  },
  {
   "cell_type": "code",
   "execution_count": 100,
   "metadata": {},
   "outputs": [
    {
     "name": "stdout",
     "output_type": "stream",
     "text": [
      "\n",
      "🔹 Match 1\n",
      "Text: farmer wants information regarding control of bacterial leaf blight disease in wheat crop 25 200 15 150 200\n",
      "Metadata:\n",
      "  Day: 21\n",
      "  Month: 2\n",
      "  StateName: chhattisgarh\n",
      "  DistrictName: durg\n",
      "  Crop: wheat\n",
      "  Category: cereals\n",
      "  Year: 2024\n",
      "  QueryType: plant protection\n",
      "  Sector: agriculture\n",
      "\n",
      "🔹 Match 2\n",
      "Text: information about control of late blight in potato crop 75 wp 500 200\n",
      "Metadata:\n",
      "  Category: vegetables\n",
      "  DistrictName: barabanki\n",
      "  Sector: horticulture\n",
      "  Crop: potato\n",
      "  StateName: uttar pradesh\n",
      "  QueryType: plant protection\n",
      "  Month: 12\n",
      "  Day: 16\n",
      "  Year: 2024\n",
      "\n",
      "🔹 Match 3\n",
      "Text: information regarding the control of leaf folder in paddybasmati 80 5 60 185 20 480 50 20 wg 170 75 1 20 100\n",
      "Metadata:\n",
      "  DistrictName: sangrur\n",
      "  QueryType: plant protection\n",
      "  Day: 26\n",
      "  Crop: paddy dhan\n",
      "  Sector: agriculture\n",
      "  Month: 8\n",
      "  StateName: punjab\n",
      "  Category: cereals\n",
      "  Year: 2024\n",
      "\n",
      "🔹 Match 4\n",
      "Text: information regarding to control yellowing and enhance good growth in wheat crop 191919 1 600 150200\n",
      "Metadata:\n",
      "  Day: 31\n",
      "  Category: cereals\n",
      "  Crop: wheat\n",
      "  Sector: agriculture\n",
      "  Year: 2024\n",
      "  DistrictName: agra\n",
      "  StateName: uttar pradesh\n",
      "  Month: 12\n",
      "  QueryType: nutrient management\n",
      "\n",
      "🔹 Match 5\n",
      "Text: information about shoot and fruit borer management in brinjal crop  25ec400 ml 200\n",
      "Metadata:\n",
      "  QueryType: plant protection\n",
      "  Day: 14\n",
      "  Sector: horticulture\n",
      "  Month: 8\n",
      "  StateName: uttar pradesh\n",
      "  Category: vegetables\n",
      "  Year: 2024\n",
      "  DistrictName: sitapur\n",
      "  Crop: brinjal\n"
     ]
    }
   ],
   "source": [
    "# Load the same embedding model used before\n",
    "model = SentenceTransformer('all-MiniLM-L6-v2')\n",
    "\n",
    "# Define your query\n",
    "user_query = \"how to control leaf spot in tomato crop\"\n",
    "\n",
    "# Generate query embedding\n",
    "query_embedding = model.encode([user_query])\n",
    "\n",
    "# Perform semantic search\n",
    "results = collection.query(\n",
    "    query_embeddings=query_embedding,\n",
    "    n_results=5,  # top-k\n",
    "    include=['documents', 'metadatas']\n",
    ")\n",
    "\n",
    "# Show results\n",
    "for i, (doc, meta) in enumerate(zip(results['documents'][0], results['metadatas'][0]), 1):\n",
    "    print(f\"\\n🔹 Match {i}\")\n",
    "    print(f\"Text: {doc}\")\n",
    "    print(\"Metadata:\")\n",
    "    for k, v in meta.items():\n",
    "        print(f\"  {k}: {v}\")"
   ]
  },
  {
   "cell_type": "markdown",
   "metadata": {},
   "source": [
    "#### 3.4 If no context meets a relevance threshold, invoke a live Internet search and clearly notify the user."
   ]
  },
  {
   "cell_type": "code",
   "execution_count": null,
   "metadata": {},
   "outputs": [],
   "source": [
    "from scipy.spatial.distance import cosine\n",
    "from sentence_transformers import SentenceTransformer\n",
    "import requests\n",
    "\n",
    "def semantic_search_with_fallback(query, model, collection, threshold=0.75, top_k=5):\n",
    "    # Step 1: Embed the query\n",
    "    query_embedding = model.encode([query])[0]\n",
    "\n",
    "    # Step 2: Retrieve top-k results\n",
    "    results = collection.query(\n",
    "        query_embeddings=[query_embedding],\n",
    "        n_results=top_k,\n",
    "        include=['documents', 'metadatas', 'embeddings']\n",
    "    )\n",
    "\n",
    "    docs = results['documents'][0]\n",
    "    metas = results['metadatas'][0]\n",
    "    doc_embeddings = results['embeddings'][0]\n",
    "\n",
    "    # Step 3: Compute cosine similarity\n",
    "    similarities = [1 - cosine(query_embedding, emb) for emb in doc_embeddings]\n",
    "\n",
    "    # Step 4: Filter based on threshold\n",
    "    relevant_results = [\n",
    "        (doc, meta, sim)\n",
    "        for doc, meta, sim in zip(docs, metas, similarities)\n",
    "        if sim >= threshold\n",
    "    ]\n",
    "\n",
    "    if relevant_results:\n",
    "        print(f\"\\n✅ Found {len(relevant_results)} relevant results (threshold ≥ {threshold})\")\n",
    "        for i, (doc, meta, sim) in enumerate(relevant_results, 1):\n",
    "            print(f\"\\n🔹 Match {i} (Similarity: {sim:.3f})\")\n",
    "            print(f\"Text: {doc}\")\n",
    "            print(\"Metadata:\")\n",
    "            for k, v in meta.items():\n",
    "                print(f\"  {k}: {v}\")\n",
    "    else:\n",
    "        print(\"\\n⚠️ No sufficiently relevant local results.\")\n",
    "        print(\"🌐 Performing a live internet search...\")\n",
    "\n",
    "        # Step 5: Perform live internet search using SerpAPI\n",
    "        serpapi_api_key = 'YOUR_SERPAPI_API_KEY'  # Replace with your actual SerpAPI key\n",
    "        params = {\n",
    "            'engine': 'google',\n",
    "            'q': query,\n",
    "            # 'api_key': \"6fb5953aa0005416f5307922637a89b395a05e7208c7b66ce2171b30d3df4e80\"\n",
    "        }\n",
    "        response = requests.get('https://serpapi.com/search', params=params)\n",
    "\n",
    "        if response.status_code == 200:\n",
    "            search_results = response.json()\n",
    "            organic_results = search_results.get('organic_results', [])\n",
    "            if organic_results:\n",
    "                print(\"\\n🔎 Top Internet Search Results:\")\n",
    "                for i, result in enumerate(organic_results[:5], 1):\n",
    "                    print(f\"\\n🔹 Result {i}\")\n",
    "                    print(f\"Title: {result.get('title')}\")\n",
    "                    print(f\"Link: {result.get('link')}\")\n",
    "                    print(f\"Snippet: {result.get('snippet')}\")\n",
    "            else:\n",
    "                print(\"No search results found.\")\n",
    "        else:\n",
    "            print(f\"Error fetching search results: {response.status_code}\")\n"
   ]
  },
  {
   "cell_type": "code",
   "execution_count": 107,
   "metadata": {},
   "outputs": [
    {
     "name": "stdout",
     "output_type": "stream",
     "text": [
      "\n",
      "⚠️ No sufficiently relevant local results.\n",
      "🌐 Performing a live internet search...\n",
      "\n",
      "🔎 Top Internet Search Results:\n",
      "\n",
      "🔹 Result 1\n",
      "Title: How do I grow bigger gourds : r/gardening\n",
      "Link: https://www.reddit.com/r/gardening/comments/16b6fg3/how_do_i_grow_bigger_gourds/\n",
      "Snippet: Use fertilizer that is higher on potash (the \"K\" in NPK) once the vines get growing. Also do not be impatient to pick them. Let the vines get brown.\n",
      "\n",
      "🔹 Result 2\n",
      "Title: WHY BOTTLE GOURD FEMALE FLOWERS DYING\n",
      "Link: https://www.youtube.com/live/sSxjSUH0LOI?pp=QAFIAg%3D%3D\n",
      "Snippet: WHY BOTTLE GOURD FEMALE FLOWERS DYING | HOW TO INCREASE YIELD OF GOURDS In this gardening video we will give you tips and guidance how to ...\n",
      "\n",
      "🔹 Result 3\n",
      "Title: Bottle Gourd Cultivation: Maximizing Yield in Summer and ...\n",
      "Link: https://agriculture.institute/production-tech-vegetables-crops/bottle-gourd-cultivation-maximizing-yield/\n",
      "Snippet: Fertilization plays a vital role in the growth and yield of bottle gourd. Here is a recommended fertilization schedule: Basal application ...\n",
      "\n",
      "🔹 Result 4\n",
      "Title: A Guide for Bottle Gourd Farming - Kisanvedika - BigHaat\n",
      "Link: https://kisanvedika.bighaat.com/crop/growing-organic-bottle-gourd-a-planting-guide/\n",
      "Snippet: It grows in a high-temperature climate. Organic matters, aged compost, and manure are the best fertilizers to produce a high yield. Let's read ...\n",
      "\n",
      "🔹 Result 5\n",
      "Title: Bottle Gourd\n",
      "Link: https://gardeningsg.nparks.gov.sg/page-index/edible-plants/bottle-gourd/\n",
      "Snippet: Bottle gourds will produce more flowers and thus more fruit when fed with fertilisers high in Phosphorus and Potassium. Plants can be fertilised ...\n"
     ]
    }
   ],
   "source": [
    "# Initialize your model and collection as before\n",
    "model = SentenceTransformer('all-MiniLM-L6-v2')  # or your preferred model\n",
    "# collection = your ChromaDB collection\n",
    "\n",
    "# Perform semantic search with fallback\n",
    "semantic_search_with_fallback(\"how to increase yield of bottle gourd\", model, collection)\n"
   ]
  }
 ],
 "metadata": {
  "kernelspec": {
   "display_name": "kcc",
   "language": "python",
   "name": "python3"
  },
  "language_info": {
   "codemirror_mode": {
    "name": "ipython",
    "version": 3
   },
   "file_extension": ".py",
   "mimetype": "text/x-python",
   "name": "python",
   "nbconvert_exporter": "python",
   "pygments_lexer": "ipython3",
   "version": "3.10.16"
  }
 },
 "nbformat": 4,
 "nbformat_minor": 2
}
