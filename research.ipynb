{
 "cells": [
  {
   "cell_type": "markdown",
   "metadata": {},
   "source": [
    "## 1. Data Ingestion"
   ]
  },
  {
   "cell_type": "markdown",
   "metadata": {},
   "source": [
    "#### 1.1 Data import for the year of 2006"
   ]
  },
  {
   "cell_type": "code",
   "execution_count": 96,
   "metadata": {},
   "outputs": [],
   "source": [
    "import pandas as pd\n",
    "import re\n",
    "import uuid"
   ]
  },
  {
   "cell_type": "code",
   "execution_count": 97,
   "metadata": {},
   "outputs": [
    {
     "data": {
      "text/html": [
       "<div>\n",
       "<style scoped>\n",
       "    .dataframe tbody tr th:only-of-type {\n",
       "        vertical-align: middle;\n",
       "    }\n",
       "\n",
       "    .dataframe tbody tr th {\n",
       "        vertical-align: top;\n",
       "    }\n",
       "\n",
       "    .dataframe thead th {\n",
       "        text-align: right;\n",
       "    }\n",
       "</style>\n",
       "<table border=\"1\" class=\"dataframe\">\n",
       "  <thead>\n",
       "    <tr style=\"text-align: right;\">\n",
       "      <th></th>\n",
       "      <th>BlockName</th>\n",
       "      <th>Category</th>\n",
       "      <th>Year</th>\n",
       "      <th>Month</th>\n",
       "      <th>Day</th>\n",
       "      <th>Crop</th>\n",
       "      <th>DistrictName</th>\n",
       "      <th>QueryType</th>\n",
       "      <th>Season</th>\n",
       "      <th>Sector</th>\n",
       "      <th>StateName</th>\n",
       "      <th>QueryText</th>\n",
       "      <th>KccAns</th>\n",
       "      <th>latitude</th>\n",
       "      <th>longitude</th>\n",
       "    </tr>\n",
       "  </thead>\n",
       "  <tbody>\n",
       "    <tr>\n",
       "      <th>0</th>\n",
       "      <td>PONDURU</td>\n",
       "      <td>Pulses</td>\n",
       "      <td>2024</td>\n",
       "      <td>1</td>\n",
       "      <td>1</td>\n",
       "      <td>Green Gram Moong Bean Moong</td>\n",
       "      <td>SRIKAKULAM</td>\n",
       "      <td>Nutrient Management</td>\n",
       "      <td>NaN</td>\n",
       "      <td>AGRICULTURE</td>\n",
       "      <td>ANDHRA PRADESH</td>\n",
       "      <td>FARMER ASKED QUERY ON NUTRIENT MANAGEMENT IN g...</td>\n",
       "      <td>RECOMMENDED TO SPRAY BORAX 3 GRAMS 1 LITR OF ...</td>\n",
       "      <td>18.2949</td>\n",
       "      <td>83.8939</td>\n",
       "    </tr>\n",
       "    <tr>\n",
       "      <th>1</th>\n",
       "      <td>GARA</td>\n",
       "      <td>Millets</td>\n",
       "      <td>2024</td>\n",
       "      <td>1</td>\n",
       "      <td>1</td>\n",
       "      <td>Maize Makka</td>\n",
       "      <td>SRIKAKULAM</td>\n",
       "      <td>Plant Protection</td>\n",
       "      <td>NaN</td>\n",
       "      <td>AGRICULTURE</td>\n",
       "      <td>ANDHRA PRADESH</td>\n",
       "      <td>FARMER ASKED QUERY ON USAGE OF NEEM OIL IN MAIZE</td>\n",
       "      <td>RECOMMENDED TO SPRAY AZADIRHACHTIN NEEM  OIL 1...</td>\n",
       "      <td>18.2949</td>\n",
       "      <td>83.8939</td>\n",
       "    </tr>\n",
       "  </tbody>\n",
       "</table>\n",
       "</div>"
      ],
      "text/plain": [
       "  BlockName Category  Year  Month  Day                         Crop  \\\n",
       "0   PONDURU   Pulses  2024      1    1  Green Gram Moong Bean Moong   \n",
       "1      GARA  Millets  2024      1    1                  Maize Makka   \n",
       "\n",
       "  DistrictName            QueryType  Season       Sector       StateName  \\\n",
       "0   SRIKAKULAM  Nutrient Management     NaN  AGRICULTURE  ANDHRA PRADESH   \n",
       "1   SRIKAKULAM     Plant Protection     NaN  AGRICULTURE  ANDHRA PRADESH   \n",
       "\n",
       "                                           QueryText  \\\n",
       "0  FARMER ASKED QUERY ON NUTRIENT MANAGEMENT IN g...   \n",
       "1   FARMER ASKED QUERY ON USAGE OF NEEM OIL IN MAIZE   \n",
       "\n",
       "                                              KccAns  latitude  longitude  \n",
       "0   RECOMMENDED TO SPRAY BORAX 3 GRAMS 1 LITR OF ...   18.2949    83.8939  \n",
       "1  RECOMMENDED TO SPRAY AZADIRHACHTIN NEEM  OIL 1...   18.2949    83.8939  "
      ]
     },
     "execution_count": 97,
     "metadata": {},
     "output_type": "execute_result"
    }
   ],
   "source": [
    "df = pd.read_csv(r\"D:\\Data Science Projects\\datasets\\Year_2024_dataset.csv\")\n",
    "df.head(2)"
   ]
  },
  {
   "cell_type": "markdown",
   "metadata": {},
   "source": [
    "#### 1.2 Clean, normalize, and split into logical “document” chunks or Q&A pairs."
   ]
  },
  {
   "cell_type": "markdown",
   "metadata": {},
   "source": [
    "####  EDA"
   ]
  },
  {
   "cell_type": "code",
   "execution_count": 98,
   "metadata": {},
   "outputs": [
    {
     "name": "stdout",
     "output_type": "stream",
     "text": [
      "🔹 Dataset shape: (3234061, 15)\n"
     ]
    }
   ],
   "source": [
    "print(\"🔹 Dataset shape:\", df.shape)"
   ]
  },
  {
   "cell_type": "code",
   "execution_count": 99,
   "metadata": {},
   "outputs": [
    {
     "name": "stdout",
     "output_type": "stream",
     "text": [
      "\n",
      "🔹 Null values per column:\n",
      "BlockName            44\n",
      "Category              0\n",
      "Year                  0\n",
      "Month                 0\n",
      "Day                   0\n",
      "Crop                  0\n",
      "DistrictName          0\n",
      "QueryType             0\n",
      "Season          3234061\n",
      "Sector                0\n",
      "StateName             0\n",
      "QueryText            21\n",
      "KccAns              750\n",
      "latitude              0\n",
      "longitude             0\n",
      "dtype: int64\n"
     ]
    }
   ],
   "source": [
    "print(\"\\n🔹 Null values per column:\")\n",
    "print(df.isnull().sum())"
   ]
  },
  {
   "cell_type": "code",
   "execution_count": 100,
   "metadata": {},
   "outputs": [
    {
     "name": "stdout",
     "output_type": "stream",
     "text": [
      "\n",
      "🔹 Unique value counts:\n",
      "BlockName: 6126\n",
      "Category: 22\n",
      "Year: 1\n",
      "Month: 12\n",
      "Day: 31\n",
      "Crop: 297\n",
      "DistrictName: 668\n",
      "QueryType: 65\n",
      "Season: 0\n",
      "Sector: 4\n",
      "StateName: 32\n",
      "QueryText: 698092\n",
      "KccAns: 1292215\n",
      "latitude: 649\n",
      "longitude: 647\n"
     ]
    }
   ],
   "source": [
    "# Unique values in each column\n",
    "print(\"\\n🔹 Unique value counts:\")\n",
    "for col in df.columns:\n",
    "    print(f\"{col}: {df[col].nunique()}\")"
   ]
  },
  {
   "cell_type": "code",
   "execution_count": 101,
   "metadata": {},
   "outputs": [
    {
     "name": "stdout",
     "output_type": "stream",
     "text": [
      "\n",
      "🔹 Top 10 States:\n",
      "StateName\n",
      "UTTAR PRADESH     536021\n",
      "RAJASTHAN         431179\n",
      "MADHYA PRADESH    345544\n",
      "HARYANA           236464\n",
      "MAHARASHTRA       220050\n",
      "BIHAR             195627\n",
      "GUJARAT           183659\n",
      "WEST BENGAL       166475\n",
      "TAMILNADU         157176\n",
      "PUNJAB            147633\n",
      "Name: count, dtype: int64\n"
     ]
    }
   ],
   "source": [
    " ## Distribution of some key categorical columns\n",
    "print(\"\\n🔹 Top 10 States:\")\n",
    "print(df['StateName'].value_counts().head(10))"
   ]
  },
  {
   "cell_type": "markdown",
   "metadata": {},
   "source": []
  },
  {
   "cell_type": "code",
   "execution_count": 102,
   "metadata": {},
   "outputs": [
    {
     "name": "stdout",
     "output_type": "stream",
     "text": [
      "Crop\n",
      "Others                          1300332\n",
      "Paddy Dhan                       408910\n",
      "Wheat                            224229\n",
      "Cotton Kapas                      91734\n",
      "Groundnut pea nutmung phalli      80240\n",
      "Soybean bhat                      74237\n",
      "Maize Makka                       66959\n",
      "Green Gram Moong Bean Moong       59394\n",
      "Mustard                           51492\n",
      "Potato                            47092\n",
      "Name: count, dtype: int64\n"
     ]
    }
   ],
   "source": [
    "#print(\"\\n🔹 Top 10 Crops:\")\n",
    "print(df['Crop'].value_counts().head(10))"
   ]
  },
  {
   "cell_type": "markdown",
   "metadata": {},
   "source": [
    "#### Table cleaning "
   ]
  },
  {
   "cell_type": "code",
   "execution_count": 103,
   "metadata": {},
   "outputs": [
    {
     "name": "stdout",
     "output_type": "stream",
     "text": [
      "✅ Dropped 'Season' column.\n"
     ]
    }
   ],
   "source": [
    "# Drop the 'Season' column due to high missingness\n",
    "df.drop(columns=['Season'], inplace=True)\n",
    "\n",
    "print(\"✅ Dropped 'Season' column.\")"
   ]
  },
  {
   "cell_type": "code",
   "execution_count": 104,
   "metadata": {},
   "outputs": [
    {
     "name": "stdout",
     "output_type": "stream",
     "text": [
      "🔹 Dataset shape: (3234061, 14)\n"
     ]
    }
   ],
   "source": [
    "print(\"🔹 Dataset shape:\", df.shape)"
   ]
  },
  {
   "cell_type": "code",
   "execution_count": 105,
   "metadata": {},
   "outputs": [
    {
     "name": "stdout",
     "output_type": "stream",
     "text": [
      "🧪 Any NaNs? True\n"
     ]
    }
   ],
   "source": [
    "print(\"🧪 Any NaNs?\", df.isnull().values.any())\n"
   ]
  },
  {
   "cell_type": "code",
   "execution_count": 106,
   "metadata": {},
   "outputs": [
    {
     "name": "stdout",
     "output_type": "stream",
     "text": [
      "✅ Dropped rows with NaN values. New shape: (3233249, 14)\n"
     ]
    }
   ],
   "source": [
    "# Drop rows that contain any NaN values\n",
    "df.dropna(inplace=True)\n",
    "\n",
    "print(f\"✅ Dropped rows with NaN values. New shape: {df.shape}\")\n"
   ]
  },
  {
   "cell_type": "code",
   "execution_count": 107,
   "metadata": {},
   "outputs": [
    {
     "name": "stdout",
     "output_type": "stream",
     "text": [
      "🧪 Any NaNs left? False\n"
     ]
    }
   ],
   "source": [
    "print(\"🧪 Any NaNs left?\", df.isnull().values.any())\n"
   ]
  },
  {
   "cell_type": "code",
   "execution_count": 108,
   "metadata": {},
   "outputs": [
    {
     "data": {
      "text/html": [
       "<div>\n",
       "<style scoped>\n",
       "    .dataframe tbody tr th:only-of-type {\n",
       "        vertical-align: middle;\n",
       "    }\n",
       "\n",
       "    .dataframe tbody tr th {\n",
       "        vertical-align: top;\n",
       "    }\n",
       "\n",
       "    .dataframe thead th {\n",
       "        text-align: right;\n",
       "    }\n",
       "</style>\n",
       "<table border=\"1\" class=\"dataframe\">\n",
       "  <thead>\n",
       "    <tr style=\"text-align: right;\">\n",
       "      <th></th>\n",
       "      <th>BlockName</th>\n",
       "      <th>Category</th>\n",
       "      <th>Year</th>\n",
       "      <th>Month</th>\n",
       "      <th>Day</th>\n",
       "      <th>Crop</th>\n",
       "      <th>DistrictName</th>\n",
       "      <th>QueryType</th>\n",
       "      <th>Sector</th>\n",
       "      <th>StateName</th>\n",
       "      <th>QueryText</th>\n",
       "      <th>KccAns</th>\n",
       "      <th>latitude</th>\n",
       "      <th>longitude</th>\n",
       "    </tr>\n",
       "  </thead>\n",
       "  <tbody>\n",
       "    <tr>\n",
       "      <th>0</th>\n",
       "      <td>PONDURU</td>\n",
       "      <td>Pulses</td>\n",
       "      <td>2024</td>\n",
       "      <td>1</td>\n",
       "      <td>1</td>\n",
       "      <td>Green Gram Moong Bean Moong</td>\n",
       "      <td>SRIKAKULAM</td>\n",
       "      <td>Nutrient Management</td>\n",
       "      <td>AGRICULTURE</td>\n",
       "      <td>ANDHRA PRADESH</td>\n",
       "      <td>FARMER ASKED QUERY ON NUTRIENT MANAGEMENT IN g...</td>\n",
       "      <td>RECOMMENDED TO SPRAY BORAX 3 GRAMS 1 LITR OF ...</td>\n",
       "      <td>18.2949</td>\n",
       "      <td>83.8939</td>\n",
       "    </tr>\n",
       "    <tr>\n",
       "      <th>1</th>\n",
       "      <td>GARA</td>\n",
       "      <td>Millets</td>\n",
       "      <td>2024</td>\n",
       "      <td>1</td>\n",
       "      <td>1</td>\n",
       "      <td>Maize Makka</td>\n",
       "      <td>SRIKAKULAM</td>\n",
       "      <td>Plant Protection</td>\n",
       "      <td>AGRICULTURE</td>\n",
       "      <td>ANDHRA PRADESH</td>\n",
       "      <td>FARMER ASKED QUERY ON USAGE OF NEEM OIL IN MAIZE</td>\n",
       "      <td>RECOMMENDED TO SPRAY AZADIRHACHTIN NEEM  OIL 1...</td>\n",
       "      <td>18.2949</td>\n",
       "      <td>83.8939</td>\n",
       "    </tr>\n",
       "    <tr>\n",
       "      <th>2</th>\n",
       "      <td>PONDURU</td>\n",
       "      <td>Pulses</td>\n",
       "      <td>2024</td>\n",
       "      <td>1</td>\n",
       "      <td>1</td>\n",
       "      <td>Green Gram Moong Bean Moong</td>\n",
       "      <td>SRIKAKULAM</td>\n",
       "      <td>Plant Protection</td>\n",
       "      <td>AGRICULTURE</td>\n",
       "      <td>ANDHRA PRADESH</td>\n",
       "      <td>GREEN GRAM LEAF EATING CATERPILLAR MANAGEMENT</td>\n",
       "      <td>500     200</td>\n",
       "      <td>18.2949</td>\n",
       "      <td>83.8939</td>\n",
       "    </tr>\n",
       "    <tr>\n",
       "      <th>3</th>\n",
       "      <td>MANDASA</td>\n",
       "      <td>Vegetables</td>\n",
       "      <td>2024</td>\n",
       "      <td>1</td>\n",
       "      <td>1</td>\n",
       "      <td>Tomato</td>\n",
       "      <td>SRIKAKULAM</td>\n",
       "      <td>Fertilizer Use and Availability</td>\n",
       "      <td>HORTICULTURE</td>\n",
       "      <td>ANDHRA PRADESH</td>\n",
       "      <td>FARMER ASKED QUERY ON FERTILIZER MANAGEMENT IN...</td>\n",
       "      <td>RECOMMENDED TO FERTILISERS: UREA 30KGDAP- 50 K...</td>\n",
       "      <td>18.2949</td>\n",
       "      <td>83.8939</td>\n",
       "    </tr>\n",
       "    <tr>\n",
       "      <th>4</th>\n",
       "      <td>MANDASA</td>\n",
       "      <td>Vegetables</td>\n",
       "      <td>2024</td>\n",
       "      <td>1</td>\n",
       "      <td>1</td>\n",
       "      <td>Tomato</td>\n",
       "      <td>SRIKAKULAM</td>\n",
       "      <td>Cultural Practices</td>\n",
       "      <td>HORTICULTURE</td>\n",
       "      <td>ANDHRA PRADESH</td>\n",
       "      <td>FARMER ASKED QUERY ON WEED  MANAGEMENT IN  TOM...</td>\n",
       "      <td>RECOMMENDED TO SPRAY ATRAZINE ATRATOPSOLARO 1 ...</td>\n",
       "      <td>18.2949</td>\n",
       "      <td>83.8939</td>\n",
       "    </tr>\n",
       "  </tbody>\n",
       "</table>\n",
       "</div>"
      ],
      "text/plain": [
       "  BlockName    Category  Year  Month  Day                         Crop  \\\n",
       "0   PONDURU      Pulses  2024      1    1  Green Gram Moong Bean Moong   \n",
       "1      GARA     Millets  2024      1    1                  Maize Makka   \n",
       "2   PONDURU      Pulses  2024      1    1  Green Gram Moong Bean Moong   \n",
       "3   MANDASA  Vegetables  2024      1    1                       Tomato   \n",
       "4   MANDASA  Vegetables  2024      1    1                       Tomato   \n",
       "\n",
       "  DistrictName                        QueryType        Sector       StateName  \\\n",
       "0   SRIKAKULAM              Nutrient Management   AGRICULTURE  ANDHRA PRADESH   \n",
       "1   SRIKAKULAM                 Plant Protection   AGRICULTURE  ANDHRA PRADESH   \n",
       "2   SRIKAKULAM                 Plant Protection   AGRICULTURE  ANDHRA PRADESH   \n",
       "3   SRIKAKULAM  Fertilizer Use and Availability  HORTICULTURE  ANDHRA PRADESH   \n",
       "4   SRIKAKULAM               Cultural Practices  HORTICULTURE  ANDHRA PRADESH   \n",
       "\n",
       "                                           QueryText  \\\n",
       "0  FARMER ASKED QUERY ON NUTRIENT MANAGEMENT IN g...   \n",
       "1   FARMER ASKED QUERY ON USAGE OF NEEM OIL IN MAIZE   \n",
       "2      GREEN GRAM LEAF EATING CATERPILLAR MANAGEMENT   \n",
       "3  FARMER ASKED QUERY ON FERTILIZER MANAGEMENT IN...   \n",
       "4  FARMER ASKED QUERY ON WEED  MANAGEMENT IN  TOM...   \n",
       "\n",
       "                                              KccAns  latitude  longitude  \n",
       "0   RECOMMENDED TO SPRAY BORAX 3 GRAMS 1 LITR OF ...   18.2949    83.8939  \n",
       "1  RECOMMENDED TO SPRAY AZADIRHACHTIN NEEM  OIL 1...   18.2949    83.8939  \n",
       "2                              500     200             18.2949    83.8939  \n",
       "3  RECOMMENDED TO FERTILISERS: UREA 30KGDAP- 50 K...   18.2949    83.8939  \n",
       "4  RECOMMENDED TO SPRAY ATRAZINE ATRATOPSOLARO 1 ...   18.2949    83.8939  "
      ]
     },
     "execution_count": 108,
     "metadata": {},
     "output_type": "execute_result"
    }
   ],
   "source": [
    "df.head()"
   ]
  },
  {
   "cell_type": "code",
   "execution_count": 109,
   "metadata": {},
   "outputs": [],
   "source": [
    "# Normalize text fields (lowercase, strip, basic cleaning)\n",
    "def clean_text(text):\n",
    "    if pd.isna(text):\n",
    "        return \"\"\n",
    "    text = text.lower().strip()\n",
    "    text = re.sub(r'\\s+', ' ', text)  # remove extra whitespace\n",
    "    text = re.sub(r'[^a-z0-9\\s.,]', '', text)  # basic character filtering\n",
    "    return text\n",
    "\n",
    "df['QueryText'] = df['QueryText'].apply(clean_text)\n",
    "df['KccAns'] = df['KccAns'].apply(clean_text) \n",
    "\n",
    "\n",
    "#  normalize categorical fields (strip & lowercase)\n",
    "for col in ['Crop', 'DistrictName', 'Category', 'QueryType', 'Sector', 'StateName']:\n",
    "    df[col] = df[col].astype(str).str.lower().str.strip()"
   ]
  },
  {
   "cell_type": "code",
   "execution_count": 110,
   "metadata": {},
   "outputs": [
    {
     "data": {
      "text/html": [
       "<div>\n",
       "<style scoped>\n",
       "    .dataframe tbody tr th:only-of-type {\n",
       "        vertical-align: middle;\n",
       "    }\n",
       "\n",
       "    .dataframe tbody tr th {\n",
       "        vertical-align: top;\n",
       "    }\n",
       "\n",
       "    .dataframe thead th {\n",
       "        text-align: right;\n",
       "    }\n",
       "</style>\n",
       "<table border=\"1\" class=\"dataframe\">\n",
       "  <thead>\n",
       "    <tr style=\"text-align: right;\">\n",
       "      <th></th>\n",
       "      <th>BlockName</th>\n",
       "      <th>Category</th>\n",
       "      <th>Year</th>\n",
       "      <th>Month</th>\n",
       "      <th>Day</th>\n",
       "      <th>Crop</th>\n",
       "      <th>DistrictName</th>\n",
       "      <th>QueryType</th>\n",
       "      <th>Sector</th>\n",
       "      <th>StateName</th>\n",
       "      <th>QueryText</th>\n",
       "      <th>KccAns</th>\n",
       "      <th>latitude</th>\n",
       "      <th>longitude</th>\n",
       "    </tr>\n",
       "  </thead>\n",
       "  <tbody>\n",
       "    <tr>\n",
       "      <th>0</th>\n",
       "      <td>PONDURU</td>\n",
       "      <td>pulses</td>\n",
       "      <td>2024</td>\n",
       "      <td>1</td>\n",
       "      <td>1</td>\n",
       "      <td>green gram moong bean moong</td>\n",
       "      <td>srikakulam</td>\n",
       "      <td>nutrient management</td>\n",
       "      <td>agriculture</td>\n",
       "      <td>andhra pradesh</td>\n",
       "      <td>farmer asked query on nutrient management in g...</td>\n",
       "      <td>recommended to spray borax 3 grams 1 litr of w...</td>\n",
       "      <td>18.2949</td>\n",
       "      <td>83.8939</td>\n",
       "    </tr>\n",
       "    <tr>\n",
       "      <th>1</th>\n",
       "      <td>GARA</td>\n",
       "      <td>millets</td>\n",
       "      <td>2024</td>\n",
       "      <td>1</td>\n",
       "      <td>1</td>\n",
       "      <td>maize makka</td>\n",
       "      <td>srikakulam</td>\n",
       "      <td>plant protection</td>\n",
       "      <td>agriculture</td>\n",
       "      <td>andhra pradesh</td>\n",
       "      <td>farmer asked query on usage of neem oil in maize</td>\n",
       "      <td>recommended to spray azadirhachtin neem oil 1 ...</td>\n",
       "      <td>18.2949</td>\n",
       "      <td>83.8939</td>\n",
       "    </tr>\n",
       "    <tr>\n",
       "      <th>2</th>\n",
       "      <td>PONDURU</td>\n",
       "      <td>pulses</td>\n",
       "      <td>2024</td>\n",
       "      <td>1</td>\n",
       "      <td>1</td>\n",
       "      <td>green gram moong bean moong</td>\n",
       "      <td>srikakulam</td>\n",
       "      <td>plant protection</td>\n",
       "      <td>agriculture</td>\n",
       "      <td>andhra pradesh</td>\n",
       "      <td>green gram leaf eating caterpillar management</td>\n",
       "      <td>500 200</td>\n",
       "      <td>18.2949</td>\n",
       "      <td>83.8939</td>\n",
       "    </tr>\n",
       "    <tr>\n",
       "      <th>3</th>\n",
       "      <td>MANDASA</td>\n",
       "      <td>vegetables</td>\n",
       "      <td>2024</td>\n",
       "      <td>1</td>\n",
       "      <td>1</td>\n",
       "      <td>tomato</td>\n",
       "      <td>srikakulam</td>\n",
       "      <td>fertilizer use and availability</td>\n",
       "      <td>horticulture</td>\n",
       "      <td>andhra pradesh</td>\n",
       "      <td>farmer asked query on fertilizer management in...</td>\n",
       "      <td>recommended to fertilisers urea 30kgdap 50 kg ...</td>\n",
       "      <td>18.2949</td>\n",
       "      <td>83.8939</td>\n",
       "    </tr>\n",
       "    <tr>\n",
       "      <th>4</th>\n",
       "      <td>MANDASA</td>\n",
       "      <td>vegetables</td>\n",
       "      <td>2024</td>\n",
       "      <td>1</td>\n",
       "      <td>1</td>\n",
       "      <td>tomato</td>\n",
       "      <td>srikakulam</td>\n",
       "      <td>cultural practices</td>\n",
       "      <td>horticulture</td>\n",
       "      <td>andhra pradesh</td>\n",
       "      <td>farmer asked query on weed management in tomato</td>\n",
       "      <td>recommended to spray atrazine atratopsolaro 1 ...</td>\n",
       "      <td>18.2949</td>\n",
       "      <td>83.8939</td>\n",
       "    </tr>\n",
       "  </tbody>\n",
       "</table>\n",
       "</div>"
      ],
      "text/plain": [
       "  BlockName    Category  Year  Month  Day                         Crop  \\\n",
       "0   PONDURU      pulses  2024      1    1  green gram moong bean moong   \n",
       "1      GARA     millets  2024      1    1                  maize makka   \n",
       "2   PONDURU      pulses  2024      1    1  green gram moong bean moong   \n",
       "3   MANDASA  vegetables  2024      1    1                       tomato   \n",
       "4   MANDASA  vegetables  2024      1    1                       tomato   \n",
       "\n",
       "  DistrictName                        QueryType        Sector       StateName  \\\n",
       "0   srikakulam              nutrient management   agriculture  andhra pradesh   \n",
       "1   srikakulam                 plant protection   agriculture  andhra pradesh   \n",
       "2   srikakulam                 plant protection   agriculture  andhra pradesh   \n",
       "3   srikakulam  fertilizer use and availability  horticulture  andhra pradesh   \n",
       "4   srikakulam               cultural practices  horticulture  andhra pradesh   \n",
       "\n",
       "                                           QueryText  \\\n",
       "0  farmer asked query on nutrient management in g...   \n",
       "1   farmer asked query on usage of neem oil in maize   \n",
       "2      green gram leaf eating caterpillar management   \n",
       "3  farmer asked query on fertilizer management in...   \n",
       "4    farmer asked query on weed management in tomato   \n",
       "\n",
       "                                              KccAns  latitude  longitude  \n",
       "0  recommended to spray borax 3 grams 1 litr of w...   18.2949    83.8939  \n",
       "1  recommended to spray azadirhachtin neem oil 1 ...   18.2949    83.8939  \n",
       "2                                            500 200   18.2949    83.8939  \n",
       "3  recommended to fertilisers urea 30kgdap 50 kg ...   18.2949    83.8939  \n",
       "4  recommended to spray atrazine atratopsolaro 1 ...   18.2949    83.8939  "
      ]
     },
     "execution_count": 110,
     "metadata": {},
     "output_type": "execute_result"
    }
   ],
   "source": [
    "df.head()"
   ]
  },
  {
   "cell_type": "code",
   "execution_count": 111,
   "metadata": {},
   "outputs": [
    {
     "data": {
      "text/html": [
       "<div>\n",
       "<style scoped>\n",
       "    .dataframe tbody tr th:only-of-type {\n",
       "        vertical-align: middle;\n",
       "    }\n",
       "\n",
       "    .dataframe tbody tr th {\n",
       "        vertical-align: top;\n",
       "    }\n",
       "\n",
       "    .dataframe thead th {\n",
       "        text-align: right;\n",
       "    }\n",
       "</style>\n",
       "<table border=\"1\" class=\"dataframe\">\n",
       "  <thead>\n",
       "    <tr style=\"text-align: right;\">\n",
       "      <th></th>\n",
       "      <th>BlockName</th>\n",
       "      <th>Category</th>\n",
       "      <th>Year</th>\n",
       "      <th>Month</th>\n",
       "      <th>Day</th>\n",
       "      <th>Crop</th>\n",
       "      <th>DistrictName</th>\n",
       "      <th>QueryType</th>\n",
       "      <th>Sector</th>\n",
       "      <th>StateName</th>\n",
       "      <th>QueryText</th>\n",
       "      <th>KccAns</th>\n",
       "      <th>latitude</th>\n",
       "      <th>longitude</th>\n",
       "    </tr>\n",
       "  </thead>\n",
       "  <tbody>\n",
       "    <tr>\n",
       "      <th>193</th>\n",
       "      <td>SANTHAKAVATI</td>\n",
       "      <td>pulses</td>\n",
       "      <td>2024</td>\n",
       "      <td>1</td>\n",
       "      <td>23</td>\n",
       "      <td>green gram moong bean moong</td>\n",
       "      <td>srikakulam</td>\n",
       "      <td>water management</td>\n",
       "      <td>agriculture</td>\n",
       "      <td>andhra pradesh</td>\n",
       "      <td>green gram water management</td>\n",
       "      <td>2530 4550</td>\n",
       "      <td>18.2949</td>\n",
       "      <td>83.8939</td>\n",
       "    </tr>\n",
       "    <tr>\n",
       "      <th>194</th>\n",
       "      <td>PONDURU</td>\n",
       "      <td>others</td>\n",
       "      <td>2024</td>\n",
       "      <td>1</td>\n",
       "      <td>23</td>\n",
       "      <td>others</td>\n",
       "      <td>srikakulam</td>\n",
       "      <td>weather</td>\n",
       "      <td>agriculture</td>\n",
       "      <td>andhra pradesh</td>\n",
       "      <td>farmer asked query on weather</td>\n",
       "      <td>cloudy weather no chance of showers in your area</td>\n",
       "      <td>18.2949</td>\n",
       "      <td>83.8939</td>\n",
       "    </tr>\n",
       "    <tr>\n",
       "      <th>195</th>\n",
       "      <td>GANGUVARISIGADAM</td>\n",
       "      <td>others</td>\n",
       "      <td>2024</td>\n",
       "      <td>1</td>\n",
       "      <td>23</td>\n",
       "      <td>others</td>\n",
       "      <td>srikakulam</td>\n",
       "      <td>government schemes</td>\n",
       "      <td>agriculture</td>\n",
       "      <td>andhra pradesh</td>\n",
       "      <td>pm kisan samman nidhi yojana scheme</td>\n",
       "      <td>fto processed  nopayment status rft signed by ...</td>\n",
       "      <td>18.2949</td>\n",
       "      <td>83.8939</td>\n",
       "    </tr>\n",
       "    <tr>\n",
       "      <th>196</th>\n",
       "      <td>BHAMINI</td>\n",
       "      <td>millets</td>\n",
       "      <td>2024</td>\n",
       "      <td>1</td>\n",
       "      <td>23</td>\n",
       "      <td>maize makka</td>\n",
       "      <td>srikakulam</td>\n",
       "      <td>fertilizer use and availability</td>\n",
       "      <td>agriculture</td>\n",
       "      <td>andhra pradesh</td>\n",
       "      <td>farmer asked query on fertilizer management in...</td>\n",
       "      <td>13 13 13 12 12</td>\n",
       "      <td>18.2949</td>\n",
       "      <td>83.8939</td>\n",
       "    </tr>\n",
       "    <tr>\n",
       "      <th>197</th>\n",
       "      <td>BHAMINI</td>\n",
       "      <td>millets</td>\n",
       "      <td>2024</td>\n",
       "      <td>1</td>\n",
       "      <td>23</td>\n",
       "      <td>maize makka</td>\n",
       "      <td>srikakulam</td>\n",
       "      <td>fertilizer use and availability</td>\n",
       "      <td>agriculture</td>\n",
       "      <td>andhra pradesh</td>\n",
       "      <td>farmer asked query on fertilizer management in...</td>\n",
       "      <td>175 150 33 13 13 3035 13 5055 13 5055</td>\n",
       "      <td>18.2949</td>\n",
       "      <td>83.8939</td>\n",
       "    </tr>\n",
       "    <tr>\n",
       "      <th>198</th>\n",
       "      <td>BHAMINI</td>\n",
       "      <td>millets</td>\n",
       "      <td>2024</td>\n",
       "      <td>1</td>\n",
       "      <td>23</td>\n",
       "      <td>maize makka</td>\n",
       "      <td>srikakulam</td>\n",
       "      <td>plant protection</td>\n",
       "      <td>agriculture</td>\n",
       "      <td>andhra pradesh</td>\n",
       "      <td>farmer asked query on fall armyworm management...</td>\n",
       "      <td>2530 3 4</td>\n",
       "      <td>18.2949</td>\n",
       "      <td>83.8939</td>\n",
       "    </tr>\n",
       "    <tr>\n",
       "      <th>199</th>\n",
       "      <td>AMADALAVALASA</td>\n",
       "      <td>others</td>\n",
       "      <td>2024</td>\n",
       "      <td>1</td>\n",
       "      <td>23</td>\n",
       "      <td>green gram moong bean moong</td>\n",
       "      <td>srikakulam</td>\n",
       "      <td>weather</td>\n",
       "      <td>agriculture</td>\n",
       "      <td>andhra pradesh</td>\n",
       "      <td>farmer asked query on weather</td>\n",
       "      <td>cloudy weather</td>\n",
       "      <td>18.2949</td>\n",
       "      <td>83.8939</td>\n",
       "    </tr>\n",
       "  </tbody>\n",
       "</table>\n",
       "</div>"
      ],
      "text/plain": [
       "            BlockName Category  Year  Month  Day                         Crop  \\\n",
       "193      SANTHAKAVATI   pulses  2024      1   23  green gram moong bean moong   \n",
       "194           PONDURU   others  2024      1   23                       others   \n",
       "195  GANGUVARISIGADAM   others  2024      1   23                       others   \n",
       "196           BHAMINI  millets  2024      1   23                  maize makka   \n",
       "197           BHAMINI  millets  2024      1   23                  maize makka   \n",
       "198           BHAMINI  millets  2024      1   23                  maize makka   \n",
       "199     AMADALAVALASA   others  2024      1   23  green gram moong bean moong   \n",
       "\n",
       "    DistrictName                        QueryType       Sector  \\\n",
       "193   srikakulam                 water management  agriculture   \n",
       "194   srikakulam                          weather  agriculture   \n",
       "195   srikakulam               government schemes  agriculture   \n",
       "196   srikakulam  fertilizer use and availability  agriculture   \n",
       "197   srikakulam  fertilizer use and availability  agriculture   \n",
       "198   srikakulam                 plant protection  agriculture   \n",
       "199   srikakulam                          weather  agriculture   \n",
       "\n",
       "          StateName                                          QueryText  \\\n",
       "193  andhra pradesh                        green gram water management   \n",
       "194  andhra pradesh                      farmer asked query on weather   \n",
       "195  andhra pradesh                pm kisan samman nidhi yojana scheme   \n",
       "196  andhra pradesh  farmer asked query on fertilizer management in...   \n",
       "197  andhra pradesh  farmer asked query on fertilizer management in...   \n",
       "198  andhra pradesh  farmer asked query on fall armyworm management...   \n",
       "199  andhra pradesh                      farmer asked query on weather   \n",
       "\n",
       "                                                KccAns  latitude  longitude  \n",
       "193                                          2530 4550   18.2949    83.8939  \n",
       "194   cloudy weather no chance of showers in your area   18.2949    83.8939  \n",
       "195  fto processed  nopayment status rft signed by ...   18.2949    83.8939  \n",
       "196                                     13 13 13 12 12   18.2949    83.8939  \n",
       "197              175 150 33 13 13 3035 13 5055 13 5055   18.2949    83.8939  \n",
       "198                                           2530 3 4   18.2949    83.8939  \n",
       "199                                     cloudy weather   18.2949    83.8939  "
      ]
     },
     "execution_count": 111,
     "metadata": {},
     "output_type": "execute_result"
    }
   ],
   "source": [
    "df.iloc[193:200]"
   ]
  },
  {
   "cell_type": "code",
   "execution_count": 112,
   "metadata": {},
   "outputs": [
    {
     "data": {
      "text/plain": [
       "KccAns\n",
       "<class 'str'>    3233249\n",
       "Name: count, dtype: int64"
      ]
     },
     "execution_count": 112,
     "metadata": {},
     "output_type": "execute_result"
    }
   ],
   "source": [
    "df['KccAns'].map(type).value_counts()"
   ]
  },
  {
   "cell_type": "code",
   "execution_count": 113,
   "metadata": {},
   "outputs": [],
   "source": [
    "# Noticed that few KccAns are meaningless or providng no insights, so removing off such rows.\n",
    "\n",
    "# Define what counts as a placeholder \"no answer\"\n",
    "placeholders = {'', 'no answer', 'none', 'n/a', 'na', 'not available', 'nan', 'test call'}\n",
    "\n",
    "# Function to check for mostly numeric values\n",
    "def is_mostly_numbers(text):\n",
    "    if pd.isna(text):  # Check for NaN\n",
    "        return True\n",
    "    text = str(text).strip().lower()\n",
    "    if text in placeholders:\n",
    "        return True\n",
    "    tokens = re.split(r'[\\s:;,-]+', text)\n",
    "    num_count = sum(token.replace('.', '', 1).isdigit() for token in tokens if token)\n",
    "    return len(tokens) > 0 and num_count / len(tokens) > 0.7\n",
    "\n",
    "# Apply cleaning filter\n",
    "df_cleaned = df[~df['KccAns'].apply(is_mostly_numbers)].copy()"
   ]
  },
  {
   "cell_type": "code",
   "execution_count": 114,
   "metadata": {},
   "outputs": [
    {
     "data": {
      "text/plain": [
       "((3233249, 14), (996618, 14))"
      ]
     },
     "execution_count": 114,
     "metadata": {},
     "output_type": "execute_result"
    }
   ],
   "source": [
    "df.shape, df_cleaned.shape"
   ]
  },
  {
   "cell_type": "code",
   "execution_count": 115,
   "metadata": {},
   "outputs": [
    {
     "data": {
      "text/html": [
       "<div>\n",
       "<style scoped>\n",
       "    .dataframe tbody tr th:only-of-type {\n",
       "        vertical-align: middle;\n",
       "    }\n",
       "\n",
       "    .dataframe tbody tr th {\n",
       "        vertical-align: top;\n",
       "    }\n",
       "\n",
       "    .dataframe thead th {\n",
       "        text-align: right;\n",
       "    }\n",
       "</style>\n",
       "<table border=\"1\" class=\"dataframe\">\n",
       "  <thead>\n",
       "    <tr style=\"text-align: right;\">\n",
       "      <th></th>\n",
       "      <th>BlockName</th>\n",
       "      <th>Category</th>\n",
       "      <th>Year</th>\n",
       "      <th>Month</th>\n",
       "      <th>Day</th>\n",
       "      <th>Crop</th>\n",
       "      <th>DistrictName</th>\n",
       "      <th>QueryType</th>\n",
       "      <th>Sector</th>\n",
       "      <th>StateName</th>\n",
       "      <th>QueryText</th>\n",
       "      <th>KccAns</th>\n",
       "      <th>latitude</th>\n",
       "      <th>longitude</th>\n",
       "    </tr>\n",
       "  </thead>\n",
       "  <tbody>\n",
       "    <tr>\n",
       "      <th>115</th>\n",
       "      <td>BHAMINI</td>\n",
       "      <td>vegetables</td>\n",
       "      <td>2024</td>\n",
       "      <td>1</td>\n",
       "      <td>13</td>\n",
       "      <td>beans</td>\n",
       "      <td>srikakulam</td>\n",
       "      <td>plant protection</td>\n",
       "      <td>horticulture</td>\n",
       "      <td>andhra pradesh</td>\n",
       "      <td>farmer asked query on pest management in beans</td>\n",
       "      <td>recommended to spray bifenthrin marker 400 ml ...</td>\n",
       "      <td>18.2949</td>\n",
       "      <td>83.8939</td>\n",
       "    </tr>\n",
       "    <tr>\n",
       "      <th>116</th>\n",
       "      <td>HIRAMANDALAM</td>\n",
       "      <td>others</td>\n",
       "      <td>2024</td>\n",
       "      <td>1</td>\n",
       "      <td>13</td>\n",
       "      <td>others</td>\n",
       "      <td>srikakulam</td>\n",
       "      <td>training and exposure visits</td>\n",
       "      <td>agriculture</td>\n",
       "      <td>andhra pradesh</td>\n",
       "      <td>call is disconnected by farmer</td>\n",
       "      <td>call is disconnected by farmer</td>\n",
       "      <td>18.2949</td>\n",
       "      <td>83.8939</td>\n",
       "    </tr>\n",
       "    <tr>\n",
       "      <th>119</th>\n",
       "      <td>AMADALAVALASA</td>\n",
       "      <td>oilseeds</td>\n",
       "      <td>2024</td>\n",
       "      <td>1</td>\n",
       "      <td>15</td>\n",
       "      <td>sesame gingellytilsesamum</td>\n",
       "      <td>srikakulam</td>\n",
       "      <td>sowing time and weather</td>\n",
       "      <td>agriculture</td>\n",
       "      <td>andhra pradesh</td>\n",
       "      <td>sesamum ylm66 sowing season and its characteri...</td>\n",
       "      <td>recommended to sow ylm66 kharifrabisummer 80 9...</td>\n",
       "      <td>18.2949</td>\n",
       "      <td>83.8939</td>\n",
       "    </tr>\n",
       "    <tr>\n",
       "      <th>123</th>\n",
       "      <td>LAVERU</td>\n",
       "      <td>cereals</td>\n",
       "      <td>2024</td>\n",
       "      <td>1</td>\n",
       "      <td>17</td>\n",
       "      <td>paddy dhan</td>\n",
       "      <td>srikakulam</td>\n",
       "      <td>weather</td>\n",
       "      <td>agriculture</td>\n",
       "      <td>andhra pradesh</td>\n",
       "      <td>farmer asked query on weather</td>\n",
       "      <td>cloudy weather and chance of shower in your area</td>\n",
       "      <td>18.2949</td>\n",
       "      <td>83.8939</td>\n",
       "    </tr>\n",
       "    <tr>\n",
       "      <th>124</th>\n",
       "      <td>AMADALAVALASA</td>\n",
       "      <td>millets</td>\n",
       "      <td>2024</td>\n",
       "      <td>1</td>\n",
       "      <td>17</td>\n",
       "      <td>fingermillet  ragimandika</td>\n",
       "      <td>srikakulam</td>\n",
       "      <td>fertilizer use and availability</td>\n",
       "      <td>agriculture</td>\n",
       "      <td>andhra pradesh</td>\n",
       "      <td>farmer asked query on fertilizer management in...</td>\n",
       "      <td>recommended to urea30kgdap50 kgmop15 kgacre</td>\n",
       "      <td>18.2949</td>\n",
       "      <td>83.8939</td>\n",
       "    </tr>\n",
       "    <tr>\n",
       "      <th>...</th>\n",
       "      <td>...</td>\n",
       "      <td>...</td>\n",
       "      <td>...</td>\n",
       "      <td>...</td>\n",
       "      <td>...</td>\n",
       "      <td>...</td>\n",
       "      <td>...</td>\n",
       "      <td>...</td>\n",
       "      <td>...</td>\n",
       "      <td>...</td>\n",
       "      <td>...</td>\n",
       "      <td>...</td>\n",
       "      <td>...</td>\n",
       "      <td>...</td>\n",
       "    </tr>\n",
       "    <tr>\n",
       "      <th>238</th>\n",
       "      <td>BURJA</td>\n",
       "      <td>oilseeds</td>\n",
       "      <td>2024</td>\n",
       "      <td>1</td>\n",
       "      <td>27</td>\n",
       "      <td>groundnut pea nutmung phalli</td>\n",
       "      <td>srikakulam</td>\n",
       "      <td>plant protection</td>\n",
       "      <td>agriculture</td>\n",
       "      <td>andhra pradesh</td>\n",
       "      <td>farmer asked query on root grub management in ...</td>\n",
       "      <td>200kgsacre 3g 10kgacre 10g 56 kgacre 25 mllt</td>\n",
       "      <td>18.2949</td>\n",
       "      <td>83.8939</td>\n",
       "    </tr>\n",
       "    <tr>\n",
       "      <th>239</th>\n",
       "      <td>SOMPETA</td>\n",
       "      <td>oilseeds</td>\n",
       "      <td>2024</td>\n",
       "      <td>1</td>\n",
       "      <td>27</td>\n",
       "      <td>groundnut pea nutmung phalli</td>\n",
       "      <td>srikakulam</td>\n",
       "      <td>weed management</td>\n",
       "      <td>agriculture</td>\n",
       "      <td>andhra pradesh</td>\n",
       "      <td>farmer asked query about weed management in gr...</td>\n",
       "      <td>recommended to spray imazitapyr pursuit 250 ml...</td>\n",
       "      <td>18.2949</td>\n",
       "      <td>83.8939</td>\n",
       "    </tr>\n",
       "    <tr>\n",
       "      <th>240</th>\n",
       "      <td>BURJA</td>\n",
       "      <td>millets</td>\n",
       "      <td>2024</td>\n",
       "      <td>1</td>\n",
       "      <td>27</td>\n",
       "      <td>maize makka</td>\n",
       "      <td>srikakulam</td>\n",
       "      <td>plant protection</td>\n",
       "      <td>agriculture</td>\n",
       "      <td>andhra pradesh</td>\n",
       "      <td>farmer asked query about stem borer management...</td>\n",
       "      <td>recommended to spray novaluran remon 300 ml 20...</td>\n",
       "      <td>18.2949</td>\n",
       "      <td>83.8939</td>\n",
       "    </tr>\n",
       "    <tr>\n",
       "      <th>242</th>\n",
       "      <td>BHAMINI</td>\n",
       "      <td>flowers</td>\n",
       "      <td>2024</td>\n",
       "      <td>1</td>\n",
       "      <td>27</td>\n",
       "      <td>marigold</td>\n",
       "      <td>srikakulam</td>\n",
       "      <td>plant protection</td>\n",
       "      <td>horticulture</td>\n",
       "      <td>andhra pradesh</td>\n",
       "      <td>farmer asked query on leaf miner management in...</td>\n",
       "      <td>recommended to spray fipronil regent 400 ml 20...</td>\n",
       "      <td>18.2949</td>\n",
       "      <td>83.8939</td>\n",
       "    </tr>\n",
       "    <tr>\n",
       "      <th>243</th>\n",
       "      <td>BHAMINI</td>\n",
       "      <td>flowers</td>\n",
       "      <td>2024</td>\n",
       "      <td>1</td>\n",
       "      <td>27</td>\n",
       "      <td>marigold</td>\n",
       "      <td>srikakulam</td>\n",
       "      <td>plant protection</td>\n",
       "      <td>horticulture</td>\n",
       "      <td>andhra pradesh</td>\n",
       "      <td>farmer asked query on leaf miner management in...</td>\n",
       "      <td>recommended to spray imidacloprid confidor 60 ...</td>\n",
       "      <td>18.2949</td>\n",
       "      <td>83.8939</td>\n",
       "    </tr>\n",
       "  </tbody>\n",
       "</table>\n",
       "<p>100 rows × 14 columns</p>\n",
       "</div>"
      ],
      "text/plain": [
       "         BlockName    Category  Year  Month  Day  \\\n",
       "115        BHAMINI  vegetables  2024      1   13   \n",
       "116   HIRAMANDALAM      others  2024      1   13   \n",
       "119  AMADALAVALASA    oilseeds  2024      1   15   \n",
       "123         LAVERU     cereals  2024      1   17   \n",
       "124  AMADALAVALASA     millets  2024      1   17   \n",
       "..             ...         ...   ...    ...  ...   \n",
       "238          BURJA    oilseeds  2024      1   27   \n",
       "239        SOMPETA    oilseeds  2024      1   27   \n",
       "240          BURJA     millets  2024      1   27   \n",
       "242        BHAMINI     flowers  2024      1   27   \n",
       "243        BHAMINI     flowers  2024      1   27   \n",
       "\n",
       "                             Crop DistrictName  \\\n",
       "115                         beans   srikakulam   \n",
       "116                        others   srikakulam   \n",
       "119     sesame gingellytilsesamum   srikakulam   \n",
       "123                    paddy dhan   srikakulam   \n",
       "124     fingermillet  ragimandika   srikakulam   \n",
       "..                            ...          ...   \n",
       "238  groundnut pea nutmung phalli   srikakulam   \n",
       "239  groundnut pea nutmung phalli   srikakulam   \n",
       "240                   maize makka   srikakulam   \n",
       "242                      marigold   srikakulam   \n",
       "243                      marigold   srikakulam   \n",
       "\n",
       "                           QueryType        Sector       StateName  \\\n",
       "115                 plant protection  horticulture  andhra pradesh   \n",
       "116     training and exposure visits   agriculture  andhra pradesh   \n",
       "119          sowing time and weather   agriculture  andhra pradesh   \n",
       "123                          weather   agriculture  andhra pradesh   \n",
       "124  fertilizer use and availability   agriculture  andhra pradesh   \n",
       "..                               ...           ...             ...   \n",
       "238                 plant protection   agriculture  andhra pradesh   \n",
       "239                  weed management   agriculture  andhra pradesh   \n",
       "240                 plant protection   agriculture  andhra pradesh   \n",
       "242                 plant protection  horticulture  andhra pradesh   \n",
       "243                 plant protection  horticulture  andhra pradesh   \n",
       "\n",
       "                                             QueryText  \\\n",
       "115     farmer asked query on pest management in beans   \n",
       "116                     call is disconnected by farmer   \n",
       "119  sesamum ylm66 sowing season and its characteri...   \n",
       "123                      farmer asked query on weather   \n",
       "124  farmer asked query on fertilizer management in...   \n",
       "..                                                 ...   \n",
       "238  farmer asked query on root grub management in ...   \n",
       "239  farmer asked query about weed management in gr...   \n",
       "240  farmer asked query about stem borer management...   \n",
       "242  farmer asked query on leaf miner management in...   \n",
       "243  farmer asked query on leaf miner management in...   \n",
       "\n",
       "                                                KccAns  latitude  longitude  \n",
       "115  recommended to spray bifenthrin marker 400 ml ...   18.2949    83.8939  \n",
       "116                     call is disconnected by farmer   18.2949    83.8939  \n",
       "119  recommended to sow ylm66 kharifrabisummer 80 9...   18.2949    83.8939  \n",
       "123   cloudy weather and chance of shower in your area   18.2949    83.8939  \n",
       "124        recommended to urea30kgdap50 kgmop15 kgacre   18.2949    83.8939  \n",
       "..                                                 ...       ...        ...  \n",
       "238       200kgsacre 3g 10kgacre 10g 56 kgacre 25 mllt   18.2949    83.8939  \n",
       "239  recommended to spray imazitapyr pursuit 250 ml...   18.2949    83.8939  \n",
       "240  recommended to spray novaluran remon 300 ml 20...   18.2949    83.8939  \n",
       "242  recommended to spray fipronil regent 400 ml 20...   18.2949    83.8939  \n",
       "243  recommended to spray imidacloprid confidor 60 ...   18.2949    83.8939  \n",
       "\n",
       "[100 rows x 14 columns]"
      ]
     },
     "execution_count": 115,
     "metadata": {},
     "output_type": "execute_result"
    }
   ],
   "source": [
    "df_cleaned.iloc[100:200]"
   ]
  },
  {
   "cell_type": "code",
   "execution_count": 117,
   "metadata": {},
   "outputs": [],
   "source": [
    "metadata_cols = ['StateName', 'DistrictName', 'Crop', 'Category', 'QueryType', 'Sector', 'Year', 'Month', 'Day']"
   ]
  },
  {
   "cell_type": "code",
   "execution_count": null,
   "metadata": {},
   "outputs": [],
   "source": [
    "# # as the dataset is too big, sampling to 20000 instances for ease of this project demonstration\n",
    "# sampled_df = df_cleaned.sample(n=20000, random_state=42)"
   ]
  },
  {
   "cell_type": "code",
   "execution_count": 118,
   "metadata": {},
   "outputs": [],
   "source": [
    "# Function to create a single document\n",
    "def make_qa_doc(row):\n",
    "    return {\n",
    "        \"doc_id\": str(uuid.uuid4()),  # unique ID\n",
    "        \"query\": row['QueryText'],\n",
    "        \"answer\": row['KccAns'],\n",
    "        \"metadata\": {col: row[col] for col in metadata_cols}\n",
    "    }\n",
    "    \n",
    "# Apply transformation\n",
    "qa_docs = df_cleaned.apply(make_qa_doc, axis=1).tolist()"
   ]
  },
  {
   "cell_type": "code",
   "execution_count": 119,
   "metadata": {},
   "outputs": [
    {
     "data": {
      "text/html": [
       "<div>\n",
       "<style scoped>\n",
       "    .dataframe tbody tr th:only-of-type {\n",
       "        vertical-align: middle;\n",
       "    }\n",
       "\n",
       "    .dataframe tbody tr th {\n",
       "        vertical-align: top;\n",
       "    }\n",
       "\n",
       "    .dataframe thead th {\n",
       "        text-align: right;\n",
       "    }\n",
       "</style>\n",
       "<table border=\"1\" class=\"dataframe\">\n",
       "  <thead>\n",
       "    <tr style=\"text-align: right;\">\n",
       "      <th></th>\n",
       "      <th>doc_id</th>\n",
       "      <th>query</th>\n",
       "      <th>answer</th>\n",
       "      <th>metadata</th>\n",
       "    </tr>\n",
       "  </thead>\n",
       "  <tbody>\n",
       "    <tr>\n",
       "      <th>0</th>\n",
       "      <td>9aae1e28-8982-40d5-8b10-4e066d6653a3</td>\n",
       "      <td>farmer asked query on nutrient management in g...</td>\n",
       "      <td>recommended to spray borax 3 grams 1 litr of w...</td>\n",
       "      <td>{'StateName': 'andhra pradesh', 'DistrictName'...</td>\n",
       "    </tr>\n",
       "    <tr>\n",
       "      <th>1</th>\n",
       "      <td>0cf4e43d-7ae8-4495-bb12-758b6f22e418</td>\n",
       "      <td>farmer asked query on usage of neem oil in maize</td>\n",
       "      <td>recommended to spray azadirhachtin neem oil 1 ...</td>\n",
       "      <td>{'StateName': 'andhra pradesh', 'DistrictName'...</td>\n",
       "    </tr>\n",
       "    <tr>\n",
       "      <th>2</th>\n",
       "      <td>8b3a1a3e-d46f-446a-9edb-ec66b918399c</td>\n",
       "      <td>farmer asked query on fertilizer management in...</td>\n",
       "      <td>recommended to fertilisers urea 30kgdap 50 kg ...</td>\n",
       "      <td>{'StateName': 'andhra pradesh', 'DistrictName'...</td>\n",
       "    </tr>\n",
       "    <tr>\n",
       "      <th>3</th>\n",
       "      <td>15e2c70c-2275-4dd3-9407-4a3c393752c8</td>\n",
       "      <td>farmer asked query on weed management in tomato</td>\n",
       "      <td>recommended to spray atrazine atratopsolaro 1 ...</td>\n",
       "      <td>{'StateName': 'andhra pradesh', 'DistrictName'...</td>\n",
       "    </tr>\n",
       "    <tr>\n",
       "      <th>4</th>\n",
       "      <td>3c452d6e-a00a-4e0b-b5c9-c880cce86a0c</td>\n",
       "      <td>farmer asked query on weed management in sunfl...</td>\n",
       "      <td>recommended to spray quizalofoppethyl dhanuka ...</td>\n",
       "      <td>{'StateName': 'andhra pradesh', 'DistrictName'...</td>\n",
       "    </tr>\n",
       "  </tbody>\n",
       "</table>\n",
       "</div>"
      ],
      "text/plain": [
       "                                 doc_id  \\\n",
       "0  9aae1e28-8982-40d5-8b10-4e066d6653a3   \n",
       "1  0cf4e43d-7ae8-4495-bb12-758b6f22e418   \n",
       "2  8b3a1a3e-d46f-446a-9edb-ec66b918399c   \n",
       "3  15e2c70c-2275-4dd3-9407-4a3c393752c8   \n",
       "4  3c452d6e-a00a-4e0b-b5c9-c880cce86a0c   \n",
       "\n",
       "                                               query  \\\n",
       "0  farmer asked query on nutrient management in g...   \n",
       "1   farmer asked query on usage of neem oil in maize   \n",
       "2  farmer asked query on fertilizer management in...   \n",
       "3    farmer asked query on weed management in tomato   \n",
       "4  farmer asked query on weed management in sunfl...   \n",
       "\n",
       "                                              answer  \\\n",
       "0  recommended to spray borax 3 grams 1 litr of w...   \n",
       "1  recommended to spray azadirhachtin neem oil 1 ...   \n",
       "2  recommended to fertilisers urea 30kgdap 50 kg ...   \n",
       "3  recommended to spray atrazine atratopsolaro 1 ...   \n",
       "4  recommended to spray quizalofoppethyl dhanuka ...   \n",
       "\n",
       "                                            metadata  \n",
       "0  {'StateName': 'andhra pradesh', 'DistrictName'...  \n",
       "1  {'StateName': 'andhra pradesh', 'DistrictName'...  \n",
       "2  {'StateName': 'andhra pradesh', 'DistrictName'...  \n",
       "3  {'StateName': 'andhra pradesh', 'DistrictName'...  \n",
       "4  {'StateName': 'andhra pradesh', 'DistrictName'...  "
      ]
     },
     "execution_count": 119,
     "metadata": {},
     "output_type": "execute_result"
    }
   ],
   "source": [
    "qa_df = pd.DataFrame(qa_docs)\n",
    "qa_df.head()"
   ]
  },
  {
   "cell_type": "code",
   "execution_count": 122,
   "metadata": {},
   "outputs": [
    {
     "name": "stdout",
     "output_type": "stream",
     "text": [
      "✅ Q&A chunks saved to 'kcc_qa_clean.json'\n"
     ]
    }
   ],
   "source": [
    "# Save preprocessed Q&A pairs to file\n",
    "qa_df.to_json(\"kcc_qa_clean.json\", orient=\"records\", lines=True)\n",
    "print(\"✅ Q&A chunks saved to 'kcc_qa_clean.json'\")"
   ]
  },
  {
   "cell_type": "markdown",
   "metadata": {},
   "source": [
    "#### 1.4 Export both raw and preprocessed formats, preserving metadata fields."
   ]
  },
  {
   "cell_type": "code",
   "execution_count": null,
   "metadata": {},
   "outputs": [],
   "source": [
    "# Save the cleaned version of the original dataset (no Q&A restructuring)\n",
    "df.to_csv(\"kcc_cleaned_raw.csv\", index=False)\n",
    "print(\"✅ Raw cleaned data saved as 'kcc_cleaned_raw.csv'\")\n"
   ]
  },
  {
   "cell_type": "code",
   "execution_count": null,
   "metadata": {},
   "outputs": [],
   "source": [
    "# Also save as CSV for readability\n",
    "qa_df.to_csv(\"kcc_qa_clean.csv\", index=False)\n",
    "print(\"✅ Preprocessed Q&A data also saved as 'kcc_qa_clean.csv'\")\n"
   ]
  },
  {
   "cell_type": "markdown",
   "metadata": {},
   "source": [
    "## Task 02: Local LLM Deployment"
   ]
  },
  {
   "cell_type": "markdown",
   "metadata": {},
   "source": [
    "#### 2.1 Use an open-source model via the Ollama API (e.g., Gemma 3, Deepseek)."
   ]
  },
  {
   "cell_type": "code",
   "execution_count": 123,
   "metadata": {},
   "outputs": [],
   "source": [
    "import requests"
   ]
  },
  {
   "cell_type": "code",
   "execution_count": 124,
   "metadata": {},
   "outputs": [
    {
     "name": "stdout",
     "output_type": "stream",
     "text": [
      "Streaming response from Ollama:\n",
      "The capital of Andhra Pradesh is **Amaravati**.\n",
      "\n",
      "However, it’s important to note that **Amaravati is largely considered a historical city and a UNESCO World Heritage site.** The current capital is **Visakhapatnam**. \n",
      "\n",
      "So, while Amaravati was the capital, Visakhapatnam is the official capital today.\n",
      "\n",
      "Do you want to know more about either Amaravati or Visakhapatnam?\n"
     ]
    }
   ],
   "source": [
    "import requests\n",
    "import json\n",
    "\n",
    "# Set up the base URL for the local Ollama API\n",
    "url = \"http://localhost:11434/api/chat\"\n",
    "\n",
    "# Define the payload (your input prompt)\n",
    "payload = {\n",
    "    \"model\": \"gemma3:1b\",  # Replace with the model name you're using\n",
    "    \"messages\": [{\"role\": \"user\", \"content\": \"what is the capital of Andhra Pradesh?\"}]\n",
    "}\n",
    "\n",
    "# Send the HTTP POST request with streaming enabled\n",
    "response = requests.post(url, json=payload, stream=True)\n",
    "\n",
    "# Check the response status\n",
    "if response.status_code == 200:\n",
    "    print(\"Streaming response from Ollama:\")\n",
    "    for line in response.iter_lines(decode_unicode=True):\n",
    "        if line:  # Ignore empty lines\n",
    "            try:\n",
    "                # Parse each line as a JSON object\n",
    "                json_data = json.loads(line)\n",
    "                # Extract and print the assistant's message content\n",
    "                if \"message\" in json_data and \"content\" in json_data[\"message\"]:\n",
    "                    print(json_data[\"message\"][\"content\"], end=\"\")\n",
    "            except json.JSONDecodeError:\n",
    "                print(f\"\\nFailed to parse line: {line}\")\n",
    "    print()  # Ensure the final output ends with a newline\n",
    "else:\n",
    "    print(f\"Error: {response.status_code}\")\n",
    "    print(response.text)"
   ]
  },
  {
   "cell_type": "markdown",
   "metadata": {},
   "source": [
    "#### trying out ollama python package"
   ]
  },
  {
   "cell_type": "code",
   "execution_count": 125,
   "metadata": {},
   "outputs": [],
   "source": [
    "import ollama"
   ]
  },
  {
   "cell_type": "code",
   "execution_count": 126,
   "metadata": {},
   "outputs": [],
   "source": [
    "client = ollama.Client()\n",
    "model = \"gemma3:1b\""
   ]
  },
  {
   "cell_type": "code",
   "execution_count": 127,
   "metadata": {},
   "outputs": [],
   "source": [
    "response = client.generate(model, prompt = \"what are the two crop seasons in Andhra Pradesh?\")"
   ]
  },
  {
   "cell_type": "code",
   "execution_count": 128,
   "metadata": {},
   "outputs": [
    {
     "data": {
      "text/plain": [
       "\"Andhra Pradesh has two major crop seasons – the **Mango Season** and the **Paddy Season**. Here’s a breakdown:\\n\\n**1. Mango Season (Typically June - September):**\\n\\n* **Why it’s significant:** This is the most celebrated and economically important season for mangoes in Andhra Pradesh. It’s deeply intertwined with the state’s agricultural heritage and culture.\\n* **What’s grown:** Primarily, it’s the cultivation of the *Mangifera indica* mango – a hybrid of the Indian mango and the Chinese mango.\\n* **Economic impact:** This season brings significant revenue to farmers and the state’s economy.\\n* **Cultural Significance:** Mangoes are a major part of Andhra Pradesh’s cuisine, and the season is celebrated with festivals and fairs.\\n\\n\\n**2. Paddy Season (Typically August - November):**\\n\\n* **Why it’s significant:** This is the cornerstone of Andhra Pradesh’s agricultural economy – the cultivation and harvesting of rice.\\n* **What’s grown:**  It's primarily the cultivation of *Rice* (specifically, the long-grain rice variety).\\n* **Economic Impact:** Rice is the primary export crop of Andhra Pradesh, contributing substantially to the state’s GDP.  It’s essential for the region's livelihoods.\\n* **Cultural Significance:** Rice is deeply rooted in Andhra’s identity and traditions.\\n\\n\\n\\n**In short:** Mangoes reign supreme in the June-September season, while Rice dominates the August-November season.  Both are vital for the state's agriculture and economy.\\n\\n---\\n\\n**Important Note:** The exact dates for these seasons can vary slightly from year to year due to weather patterns.\\n\\nDo you want to know more about a specific aspect of these seasons, like:\\n\\n*   Specific mango varieties?\\n*   The history of the mango season?\\n*   The importance of rice farming in Andhra?\""
      ]
     },
     "execution_count": 128,
     "metadata": {},
     "output_type": "execute_result"
    }
   ],
   "source": [
    "response.response"
   ]
  },
  {
   "cell_type": "markdown",
   "metadata": {},
   "source": [
    "## 3. Retrieval-Augmented Generation (RAG)"
   ]
  },
  {
   "cell_type": "markdown",
   "metadata": {},
   "source": [
    "#### 3.1 Generate Embeddings from Document Chunks"
   ]
  },
  {
   "cell_type": "code",
   "execution_count": null,
   "metadata": {},
   "outputs": [],
   "source": [
    "# !pip install sentence-transformers"
   ]
  },
  {
   "cell_type": "code",
   "execution_count": 129,
   "metadata": {},
   "outputs": [
    {
     "name": "stderr",
     "output_type": "stream",
     "text": [
      "c:\\Users\\giree\\anaconda3\\envs\\kcc\\lib\\site-packages\\tqdm\\auto.py:21: TqdmWarning: IProgress not found. Please update jupyter and ipywidgets. See https://ipywidgets.readthedocs.io/en/stable/user_install.html\n",
      "  from .autonotebook import tqdm as notebook_tqdm\n"
     ]
    }
   ],
   "source": [
    "from sentence_transformers import SentenceTransformer\n",
    "import numpy as np\n",
    "import tqdm as notebook_tqdm"
   ]
  },
  {
   "cell_type": "code",
   "execution_count": 133,
   "metadata": {},
   "outputs": [],
   "source": [
    "# Sample 100 entries\n",
    "sample_df = qa_df.sample(n=20000, random_state=42).reset_index(drop=True)\n",
    "\n",
    "# Combine question and answer into one chunk\n",
    "sample_df['text'] = sample_df['query'] + \" \" + sample_df['answer']\n"
   ]
  },
  {
   "cell_type": "code",
   "execution_count": 134,
   "metadata": {},
   "outputs": [
    {
     "data": {
      "text/html": [
       "<div>\n",
       "<style scoped>\n",
       "    .dataframe tbody tr th:only-of-type {\n",
       "        vertical-align: middle;\n",
       "    }\n",
       "\n",
       "    .dataframe tbody tr th {\n",
       "        vertical-align: top;\n",
       "    }\n",
       "\n",
       "    .dataframe thead th {\n",
       "        text-align: right;\n",
       "    }\n",
       "</style>\n",
       "<table border=\"1\" class=\"dataframe\">\n",
       "  <thead>\n",
       "    <tr style=\"text-align: right;\">\n",
       "      <th></th>\n",
       "      <th>doc_id</th>\n",
       "      <th>query</th>\n",
       "      <th>answer</th>\n",
       "      <th>metadata</th>\n",
       "      <th>text</th>\n",
       "    </tr>\n",
       "  </thead>\n",
       "  <tbody>\n",
       "    <tr>\n",
       "      <th>0</th>\n",
       "      <td>5c0e6840-5ec2-42fb-af3b-d57552e15061</td>\n",
       "      <td>leaf blight in betel vine</td>\n",
       "      <td>recommended to spray nativo tebuconazole 50 tr...</td>\n",
       "      <td>{'StateName': 'odisha', 'DistrictName': 'balas...</td>\n",
       "      <td>leaf blight in betel vine recommended to spray...</td>\n",
       "    </tr>\n",
       "    <tr>\n",
       "      <th>1</th>\n",
       "      <td>29f9b600-ee59-4ba0-ba02-c9a969957f06</td>\n",
       "      <td>farmer asked query on weather</td>\n",
       "      <td>hanumangarh hanumangarh 37 26 10</td>\n",
       "      <td>{'StateName': 'rajasthan', 'DistrictName': 'ha...</td>\n",
       "      <td>farmer asked query on weather hanumangarh hanu...</td>\n",
       "    </tr>\n",
       "    <tr>\n",
       "      <th>2</th>\n",
       "      <td>16bfe262-c4a3-48d2-bd01-cee8c54da442</td>\n",
       "      <td>information about post emergence weeds control...</td>\n",
       "      <td>bispyribacsodium 10 sc 80 200</td>\n",
       "      <td>{'StateName': 'uttar pradesh', 'DistrictName':...</td>\n",
       "      <td>information about post emergence weeds control...</td>\n",
       "    </tr>\n",
       "    <tr>\n",
       "      <th>3</th>\n",
       "      <td>8c712611-6515-4176-92f4-d0ed5a196129</td>\n",
       "      <td>asking about details of per drop more crop scheme</td>\n",
       "      <td>pmksy</td>\n",
       "      <td>{'StateName': 'west bengal', 'DistrictName': '...</td>\n",
       "      <td>asking about details of per drop more crop sch...</td>\n",
       "    </tr>\n",
       "    <tr>\n",
       "      <th>4</th>\n",
       "      <td>940e2adf-1c7b-4cf7-8a61-a0bab63a7833</td>\n",
       "      <td>information about control of post emergence na...</td>\n",
       "      <td>bispyribacsodium 10 sc 80100 200</td>\n",
       "      <td>{'StateName': 'uttar pradesh', 'DistrictName':...</td>\n",
       "      <td>information about control of post emergence na...</td>\n",
       "    </tr>\n",
       "  </tbody>\n",
       "</table>\n",
       "</div>"
      ],
      "text/plain": [
       "                                 doc_id  \\\n",
       "0  5c0e6840-5ec2-42fb-af3b-d57552e15061   \n",
       "1  29f9b600-ee59-4ba0-ba02-c9a969957f06   \n",
       "2  16bfe262-c4a3-48d2-bd01-cee8c54da442   \n",
       "3  8c712611-6515-4176-92f4-d0ed5a196129   \n",
       "4  940e2adf-1c7b-4cf7-8a61-a0bab63a7833   \n",
       "\n",
       "                                               query  \\\n",
       "0                          leaf blight in betel vine   \n",
       "1                      farmer asked query on weather   \n",
       "2  information about post emergence weeds control...   \n",
       "3  asking about details of per drop more crop scheme   \n",
       "4  information about control of post emergence na...   \n",
       "\n",
       "                                              answer  \\\n",
       "0  recommended to spray nativo tebuconazole 50 tr...   \n",
       "1                   hanumangarh hanumangarh 37 26 10   \n",
       "2                      bispyribacsodium 10 sc 80 200   \n",
       "3                                              pmksy   \n",
       "4                   bispyribacsodium 10 sc 80100 200   \n",
       "\n",
       "                                            metadata  \\\n",
       "0  {'StateName': 'odisha', 'DistrictName': 'balas...   \n",
       "1  {'StateName': 'rajasthan', 'DistrictName': 'ha...   \n",
       "2  {'StateName': 'uttar pradesh', 'DistrictName':...   \n",
       "3  {'StateName': 'west bengal', 'DistrictName': '...   \n",
       "4  {'StateName': 'uttar pradesh', 'DistrictName':...   \n",
       "\n",
       "                                                text  \n",
       "0  leaf blight in betel vine recommended to spray...  \n",
       "1  farmer asked query on weather hanumangarh hanu...  \n",
       "2  information about post emergence weeds control...  \n",
       "3  asking about details of per drop more crop sch...  \n",
       "4  information about control of post emergence na...  "
      ]
     },
     "execution_count": 134,
     "metadata": {},
     "output_type": "execute_result"
    }
   ],
   "source": [
    "sample_df.head()"
   ]
  },
  {
   "cell_type": "code",
   "execution_count": 135,
   "metadata": {},
   "outputs": [
    {
     "data": {
      "text/plain": [
       "(20000, 5)"
      ]
     },
     "execution_count": 135,
     "metadata": {},
     "output_type": "execute_result"
    }
   ],
   "source": [
    "sample_df.shape"
   ]
  },
  {
   "cell_type": "code",
   "execution_count": null,
   "metadata": {},
   "outputs": [
    {
     "name": "stderr",
     "output_type": "stream",
     "text": [
      "Batches: 100%|██████████| 625/625 [03:13<00:00,  3.23it/s]\n"
     ]
    },
    {
     "name": "stdout",
     "output_type": "stream",
     "text": [
      "✅ Embeddings shape: (20000, 384)\n"
     ]
    }
   ],
   "source": [
    "## generate embbedings\n",
    "\n",
    "# Load a small, fast embedding model\n",
    "model = SentenceTransformer('all-MiniLM-L6-v2')\n",
    "\n",
    "# Generate dense vector embeddings\n",
    "embeddings = model.encode(sample_df['text'].tolist(), show_progress_bar=True)\n",
    "\n",
    "\n",
    "# Convert to NumPy for compatibility with vector DBs\n",
    "embeddings = np.array(embeddings)\n",
    "\n",
    "# Confirm shape\n",
    "print(\"✅ Embeddings shape:\", embeddings.shape)\n"
   ]
  },
  {
   "cell_type": "markdown",
   "metadata": {},
   "source": [
    "#### 3.2 Store embeddings in a lightweight vector database (ChromaDB, FAISS, or MongoDB)."
   ]
  },
  {
   "cell_type": "code",
   "execution_count": null,
   "metadata": {},
   "outputs": [],
   "source": [
    "# !pip install chromadb"
   ]
  },
  {
   "cell_type": "code",
   "execution_count": 137,
   "metadata": {},
   "outputs": [],
   "source": [
    "import chromadb\n",
    "from chromadb.config import Settings\n",
    "import chromadb.utils.embedding_functions as embedding_functions"
   ]
  },
  {
   "cell_type": "code",
   "execution_count": 138,
   "metadata": {},
   "outputs": [],
   "source": [
    "chroma_client = chromadb.Client()\n",
    "\n",
    "chroma_client = chromadb.PersistentClient(path=\"./chroma_store\")\n"
   ]
  },
  {
   "cell_type": "code",
   "execution_count": 139,
   "metadata": {},
   "outputs": [],
   "source": [
    "# Optional: remove existing collection (if rerunning)\n",
    "try:\n",
    "    chroma_client.delete_collection(\"kcc_embeddings\")\n",
    "except:\n",
    "    pass"
   ]
  },
  {
   "cell_type": "code",
   "execution_count": 140,
   "metadata": {},
   "outputs": [],
   "source": [
    "# Create embedding function wrapper\n",
    "embedding_fn = embedding_functions.SentenceTransformerEmbeddingFunction(model_name=\"all-MiniLM-L6-v2\")\n",
    "\n",
    "# Create new collection\n",
    "collection = chroma_client.create_collection(\n",
    "    name=\"kcc_embeddings\",\n",
    "    embedding_function=embedding_fn\n",
    ")"
   ]
  },
  {
   "cell_type": "code",
   "execution_count": 143,
   "metadata": {},
   "outputs": [],
   "source": [
    "# Prepare documents, metadatas, and IDs\n",
    "documents = sample_df['text'].tolist()\n",
    "metadatas = sample_df['metadata'].tolist()  # ← Fixed: removed eval\n",
    "ids = sample_df['doc_id'].tolist()"
   ]
  },
  {
   "cell_type": "code",
   "execution_count": 144,
   "metadata": {},
   "outputs": [
    {
     "name": "stdout",
     "output_type": "stream",
     "text": [
      "✅ Added batch 0 to 5000\n",
      "✅ Added batch 5000 to 10000\n",
      "✅ Added batch 10000 to 15000\n",
      "✅ Added batch 15000 to 20000\n"
     ]
    }
   ],
   "source": [
    "# ChromaDB has a maximum batch size limit of 5461 per .add() call.\n",
    "\n",
    "def batch_add_to_chroma(collection, documents, metadatas, ids, batch_size=5000):\n",
    "    for i in range(0, len(documents), batch_size):\n",
    "        collection.add(\n",
    "            documents=documents[i:i+batch_size],\n",
    "            metadatas=metadatas[i:i+batch_size],\n",
    "            ids=ids[i:i+batch_size]\n",
    "        )\n",
    "        print(f\"✅ Added batch {i} to {min(i+batch_size, len(documents))}\")\n",
    "        \n",
    "batch_add_to_chroma(collection, documents, metadatas, ids)\n"
   ]
  },
  {
   "cell_type": "code",
   "execution_count": 147,
   "metadata": {},
   "outputs": [
    {
     "name": "stdout",
     "output_type": "stream",
     "text": [
      "🔎 Top results:\n",
      "→ farmer want to know information about how to control fruit borer in brinjal 11 ec35\n",
      "→ farmer want to know information about how to control fruit shoot borer in brinjal crop 10 ec 10 ml\n",
      "→ want to know about how to control fruit borer in brinjal spray chlorpyriphos 20 ec 25 ml lit of water\n"
     ]
    }
   ],
   "source": [
    "## Output: Sample Query\n",
    "results = collection.query(\n",
    "    query_texts=[\"how to control fruit borer in brinjal\"],\n",
    "    n_results=3\n",
    ")\n",
    "\n",
    "print(\"🔎 Top results:\")\n",
    "for doc in results['documents'][0]:\n",
    "    print(\"→\", doc)"
   ]
  },
  {
   "cell_type": "markdown",
   "metadata": {},
   "source": [
    "#### 3.3: Semantic Search using ChromaDB\n",
    "\n",
    "Encode the incoming query using the same SentenceTransformer model.\n",
    "\n",
    "Use ChromaDB’s query() method to retrieve the most relevant documents.\n",
    "\n",
    "Return both the matched text and the associated metadata."
   ]
  },
  {
   "cell_type": "code",
   "execution_count": 158,
   "metadata": {},
   "outputs": [
    {
     "name": "stdout",
     "output_type": "stream",
     "text": [
      "\n",
      "🔹 Match 1\n",
      "Text: leaf blight in betel vine recommended to spray nativo tebuconazole 50 trifloxystrobin 25 wg 100 g in 200 litre water 8 g in 15 litre water per acre to control leaf blight in betel vine\n",
      "Metadata:\n",
      "  DistrictName: balasore\n",
      "  Year: 2024\n",
      "  Sector: horticulture\n",
      "  Day: 15\n",
      "  Month: 7\n",
      "  QueryType: plant protection\n",
      "  Category: medicinal and aromatic plants\n",
      "  Crop: betel vine\n",
      "  StateName: odisha\n",
      "\n",
      "🔹 Match 2\n",
      "Text: information about control of blight in papaya plants  11 183sc 250ml 200\n",
      "Metadata:\n",
      "  StateName: uttar pradesh\n",
      "  Category: fruits\n",
      "  Month: 8\n",
      "  Year: 2024\n",
      "  QueryType: plant protection\n",
      "  Day: 4\n",
      "  Crop: papaya\n",
      "  DistrictName: faizabad\n",
      "  Sector: horticulture\n",
      "\n",
      "🔹 Match 3\n",
      "Text: asking about control of leaf blight in potato at pre emergence spray propineb 70 wp 3 gm lit of water antracoldevi rackproximaneauditpropinex\n",
      "Metadata:\n",
      "  Sector: horticulture\n",
      "  DistrictName: west medinipur\n",
      "  QueryType: plant protection\n",
      "  Month: 1\n",
      "  Category: vegetables\n",
      "  Day: 13\n",
      "  Year: 2024\n",
      "  Crop: potato\n",
      "  StateName: west bengal\n",
      "\n",
      "🔹 Match 4\n",
      "Text: asking about control of leaf blight of potato spray iprovalicarb 55 propineb 6125 6675 wp 15 gm lit of water apni mancozeb 75wp 2 gram kore proti litter jolle gulle spray karun\n",
      "Metadata:\n",
      "  Category: vegetables\n",
      "  Month: 2\n",
      "  DistrictName: bankura\n",
      "  Sector: horticulture\n",
      "  StateName: west bengal\n",
      "  Day: 20\n",
      "  Crop: potato\n",
      "  Year: 2024\n",
      "  QueryType: plant protection\n",
      "\n",
      "🔹 Match 5\n",
      "Text: asking about control of leaf blight of potato spray iprovalicarb 55 propineb 6125 6675 wp 25 gm lit of water apni mancozeb 75wp 2gram kore proti litter jolle gulle spray karunspray tebuconazole 50 trifloxystrobin 25 75 wg 15 gm 2 lit of water\n",
      "Metadata:\n",
      "  Year: 2024\n",
      "  Day: 5\n",
      "  Category: vegetables\n",
      "  DistrictName: barddhaman\n",
      "  Sector: horticulture\n",
      "  QueryType: plant protection\n",
      "  Month: 2\n",
      "  StateName: west bengal\n",
      "  Crop: potato\n"
     ]
    }
   ],
   "source": [
    "# Load the same embedding model used before\n",
    "model = SentenceTransformer('all-MiniLM-L6-v2')\n",
    "\n",
    "# Define your query\n",
    "user_query = \"How to handle leaf blight in betel vine in Odhisa?\"\n",
    "\n",
    "# Generate query embedding\n",
    "query_embedding = model.encode([user_query])\n",
    "\n",
    "# Perform semantic search\n",
    "results = collection.query(\n",
    "    query_embeddings=query_embedding,\n",
    "    n_results=5,  # top-k\n",
    "    include=['documents', 'metadatas']\n",
    ")\n",
    "\n",
    "# Show results\n",
    "for i, (doc, meta) in enumerate(zip(results['documents'][0], results['metadatas'][0]), 1):\n",
    "    print(f\"\\n🔹 Match {i}\")\n",
    "    print(f\"Text: {doc}\")\n",
    "    print(\"Metadata:\")\n",
    "    for k, v in meta.items():\n",
    "        print(f\"  {k}: {v}\")"
   ]
  },
  {
   "cell_type": "markdown",
   "metadata": {},
   "source": [
    "#### 3.4 If no context meets a relevance threshold, invoke a live Internet search and clearly notify the user."
   ]
  },
  {
   "cell_type": "code",
   "execution_count": null,
   "metadata": {},
   "outputs": [],
   "source": [
    "from scipy.spatial.distance import cosine\n",
    "from sentence_transformers import SentenceTransformer\n",
    "import requests\n",
    "\n",
    "def semantic_search_with_fallback(query, model, collection, threshold=0.75, top_k=5):\n",
    "    # Step 1: Embed the query\n",
    "    query_embedding = model.encode([query])[0]\n",
    "\n",
    "    # Step 2: Retrieve top-k results\n",
    "    results = collection.query(\n",
    "        query_embeddings=[query_embedding],\n",
    "        n_results=top_k,\n",
    "        include=['documents', 'metadatas', 'embeddings']\n",
    "    )\n",
    "\n",
    "    docs = results['documents'][0]\n",
    "    metas = results['metadatas'][0]\n",
    "    doc_embeddings = results['embeddings'][0]\n",
    "\n",
    "    # Step 3: Compute cosine similarity\n",
    "    similarities = [1 - cosine(query_embedding, emb) for emb in doc_embeddings]\n",
    "\n",
    "    # Step 4: Filter based on threshold\n",
    "    relevant_results = [\n",
    "        (doc, meta, sim)\n",
    "        for doc, meta, sim in zip(docs, metas, similarities)\n",
    "        if sim >= threshold\n",
    "    ]\n",
    "\n",
    "    if relevant_results:\n",
    "        print(f\"\\n✅ Found {len(relevant_results)} relevant results (threshold ≥ {threshold})\")\n",
    "        for i, (doc, meta, sim) in enumerate(relevant_results, 1):\n",
    "            print(f\"\\n🔹 Match {i} (Similarity: {sim:.3f})\")\n",
    "            print(f\"Text: {doc}\")\n",
    "            print(\"Metadata:\")\n",
    "            for k, v in meta.items():\n",
    "                print(f\"  {k}: {v}\")\n",
    "    else:\n",
    "        print(\"\\n⚠️ No sufficiently relevant local results.\")\n",
    "        print(\"🌐 Performing a live internet search...\")\n",
    "\n",
    "        # Step 5: Perform live internet search using SerpAPI\n",
    "        serpapi_api_key = 'YOUR_SERPAPI_API_KEY'  # Replace with your actual SerpAPI key\n",
    "        params = {\n",
    "            'engine': 'google',\n",
    "            'q': query,\n",
    "            'api_key': \"6fb5953aa0005416f5307922637a89b395a05e7208c7b66ce2171b30d3df4e80\"\n",
    "        }\n",
    "        response = requests.get('https://serpapi.com/search', params=params)\n",
    "\n",
    "        if response.status_code == 200:\n",
    "            search_results = response.json()\n",
    "            organic_results = search_results.get('organic_results', [])\n",
    "            if organic_results:\n",
    "                print(\"\\n🔎 Top Internet Search Results:\")\n",
    "                for i, result in enumerate(organic_results[:5], 1):\n",
    "                    print(f\"\\n🔹 Result {i}\")\n",
    "                    print(f\"Title: {result.get('title')}\")\n",
    "                    print(f\"Link: {result.get('link')}\")\n",
    "                    print(f\"Snippet: {result.get('snippet')}\")\n",
    "            else:\n",
    "                print(\"No search results found.\")\n",
    "        else:\n",
    "            print(f\"Error fetching search results: {response.status_code}\")\n"
   ]
  },
  {
   "cell_type": "code",
   "execution_count": 151,
   "metadata": {},
   "outputs": [
    {
     "name": "stdout",
     "output_type": "stream",
     "text": [
      "\n",
      "⚠️ No sufficiently relevant local results.\n",
      "🌐 Performing a live internet search...\n",
      "\n",
      "🔎 Top Internet Search Results:\n",
      "\n",
      "🔹 Result 1\n",
      "Title: Regional Differences in Potato Yields in Germany\n",
      "Link: https://www.potatopro.com/news/2023/regional-differences-potato-yields-germany?amp\n",
      "Snippet: A total harvest of 10.9 million tons is expected nationwide, which is more than 2 percent above the multi-year average. Regional Differences in ...\n",
      "\n",
      "🔹 Result 2\n",
      "Title: Germany: Record heights for potato crop\n",
      "Link: https://www.freshplaza.com/article/2102606/germany-record-heights-for-potato-crop/\n",
      "Snippet: Last year, the total was 43,160 kg, while the average is 36,000 kg. The range has decreased since last year with 250 ha, leading to an ...\n",
      "\n",
      "🔹 Result 3\n",
      "Title: How and when do I plant potatoes correctly?\n",
      "Link: https://www.lurch.de/en/Guide/Planting-potatos/?srsltid=AfmBOorIQbGu1L9ygLeS_jgJH2Xv7VVfflPtfIT-iGHk7sC9qYPoTJCe\n",
      "Snippet: Most potato varieties take about three months to mature. Once the plants have died back and the leaves have turned yellow, it is time to harvest the potatoes. ...\n",
      "\n",
      "🔹 Result 4\n",
      "Title: Standard Potato – Jelly – 1 Lb\n",
      "Link: http://www.harvesting-history.com/shop/german-butterball/\n",
      "Snippet: Harvest baby potatoes 2-3 weeks after the plant has flowered. Harvest mature potatoes 2-3 weeks after the plant has died back in the fall. Harvest by digging ...\n",
      "\n",
      "🔹 Result 5\n",
      "Title: Final potato harvest! We grew over 150 lbs this year. What ...\n",
      "Link: https://www.reddit.com/r/vegetablegardening/comments/1gsxqxh/final_potato_harvest_we_grew_over_150_lbs_this/\n",
      "Snippet: We got a significantly better harvest this year, and the potatoes were WAY easier to harvest. I don't think we missed nearly as many, and it ...\n"
     ]
    }
   ],
   "source": [
    "# Initialize your model and collection as before\n",
    "model = SentenceTransformer('all-MiniLM-L6-v2')  # or your preferred model\n",
    "# collection = your ChromaDB collection\n",
    "\n",
    "# Perform semantic search with fallback\n",
    "semantic_search_with_fallback(\"What is the typical harvest times for Potatoes in Germany?\", model, collection)\n"
   ]
  },
  {
   "cell_type": "markdown",
   "metadata": {},
   "source": [
    "User query →\n",
    "  → Semantic Search on ChromaDB →\n",
    "    IF context above threshold:\n",
    "        → Compose a prompt: [context] + [query]\n",
    "        → Send to Ollama (local LLM)\n",
    "        → Show LLM-generated answer\n",
    "    ELSE:\n",
    "        → Notify: No local context found\n",
    "        → Use SerpAPI to fetch Internet results\n",
    "        → Show fallback results (not passed to LLM unless desired)\n"
   ]
  },
  {
   "cell_type": "code",
   "execution_count": null,
   "metadata": {},
   "outputs": [],
   "source": [
    "from scipy.spatial.distance import cosine\n",
    "from sentence_transformers import SentenceTransformer\n",
    "import requests\n",
    "import json\n",
    "\n",
    "def answer_with_local_llm_rag(query, model, collection, threshold=0.6, top_k=5):\n",
    "    # Step 1: Embed query\n",
    "    query_embedding = model.encode([query])[0]\n",
    "\n",
    "    # Step 2: Search ChromaDB\n",
    "    results = collection.query(\n",
    "        query_embeddings=[query_embedding],\n",
    "        n_results=top_k,\n",
    "        include=['documents', 'metadatas', 'embeddings']\n",
    "    )\n",
    "\n",
    "    docs = results['documents'][0]\n",
    "    metas = results['metadatas'][0]\n",
    "    embeddings = results['embeddings'][0]\n",
    "\n",
    "    # Step 3: Similarity filtering\n",
    "    similarities = [1 - cosine(query_embedding, emb) for emb in embeddings]\n",
    "    relevant_chunks = [\n",
    "        doc for doc, sim in zip(docs, similarities) if sim >= threshold\n",
    "    ]\n",
    "\n",
    "    # Step 4: Prepare input for LLM\n",
    "    if relevant_chunks:\n",
    "        print(f\"\\n✅ Found {len(relevant_chunks)} relevant chunks from DB.\")\n",
    "        context = \"\\n\\n\".join(relevant_chunks[:top_k])\n",
    "        full_prompt = f\"\"\"You are a helpful assistant. Use the context below to answer the question.\n",
    "\n",
    "Context:\n",
    "{context}\n",
    "\n",
    "Question:\n",
    "{query}\n",
    "\n",
    "Answer:\"\"\"\n",
    "    else:\n",
    "        print(\"\\n⚠️ No relevant local chunks found.\")\n",
    "        print(\"🌐 Performing a live Internet search...\")\n",
    "\n",
    "        # Step 5: SerpAPI fallback\n",
    "        serpapi_api_key = \"6fb5953aa0005416f5307922637a89b395a05e7208c7b66ce2171b30d3df4e80\"\n",
    "        params = {\n",
    "            'engine': 'google',\n",
    "            'q': query,\n",
    "            'api_key': serpapi_api_key\n",
    "        }\n",
    "        serp_response = requests.get('https://serpapi.com/search', params=params)\n",
    "\n",
    "        if serp_response.status_code == 200:\n",
    "            organic_results = serp_response.json().get('organic_results', [])\n",
    "            if organic_results:\n",
    "                snippets = [r.get('snippet', '') for r in organic_results[:top_k]]\n",
    "                context = \"\\n\\n\".join(snippets)\n",
    "                full_prompt = f\"\"\"You are a helpful assistant. Use the following search snippets to answer the user's question.\n",
    "\n",
    "Search Snippets:\n",
    "{context}\n",
    "\n",
    "Question:\n",
    "{query}\n",
    "\n",
    "Answer:\"\"\"\n",
    "            else:\n",
    "                print(\"No search results found.\")\n",
    "                return\n",
    "        else:\n",
    "            print(f\"Error fetching from SerpAPI: {serp_response.status_code}\")\n",
    "            return\n",
    "\n",
    "    # Step 6: Query Local LLM via Ollama\n",
    "    print(\"\\n🧠 Sending prompt to local LLM...\")\n",
    "    ollama_url = \"http://localhost:11434/api/chat\"\n",
    "    payload = {\n",
    "        \"model\": \"gemma3:1b\",  # or whatever model you're using\n",
    "        \"messages\": [{\"role\": \"user\", \"content\": full_prompt}]\n",
    "    }\n",
    "\n",
    "    response = requests.post(ollama_url, json=payload, stream=True)\n",
    "\n",
    "    if response.status_code == 200:\n",
    "        print(\"\\n🤖 LLM Response:\\n\")\n",
    "        for line in response.iter_lines(decode_unicode=True):\n",
    "            if line:\n",
    "                try:\n",
    "                    data = json.loads(line)\n",
    "                    if \"message\" in data and \"content\" in data[\"message\"]:\n",
    "                        print(data[\"message\"][\"content\"], end=\"\")\n",
    "                except json.JSONDecodeError:\n",
    "                    continue\n",
    "        print(\"\\n\")\n",
    "    else:\n",
    "        print(f\"❌ Error querying local LLM: {response.status_code}\")\n"
   ]
  },
  {
   "cell_type": "code",
   "execution_count": 156,
   "metadata": {},
   "outputs": [
    {
     "name": "stdout",
     "output_type": "stream",
     "text": [
      "\n",
      "⚠️ No relevant local chunks found.\n",
      "🌐 Performing a live Internet search...\n",
      "\n",
      "🧠 Sending prompt to local LLM...\n",
      "\n",
      "🤖 LLM Response:\n",
      "\n",
      "Based on the provided search snippets, here’s how to manage drought stress in groundnut cultivation:\n",
      "\n",
      "**To develop a water stress response function in groundnut, research works have been done to improve the performance under varying degrees of stress at various.**\n",
      "\n",
      "**Therefore, the best approach to manage drought stress in groundnut cultivation is to make water saving during periods other than the flowering and pod formation stages of growth.**\n",
      "\n",
      "Additionally, research suggests that **drought-tolerant peanut cultivars can cope with water scarcity by closing the stomata faster during water stress.**  And, **foliar application of nitric oxide (NO) donors can have positive effects on the induction of tolerance to biotic and abiotic stress on...**\n",
      "\n",
      "Essentially, focus on optimizing water management during the crucial growth phases of the plant, and consider exploring options like drought-tolerant varieties.\n",
      "\n"
     ]
    }
   ],
   "source": [
    "model = SentenceTransformer('all-MiniLM-L6-v2')\n",
    "answer_with_local_llm_rag(\"How to manage drought stress in groundnut cultivation?\", model, collection)\n"
   ]
  },
  {
   "cell_type": "code",
   "execution_count": 157,
   "metadata": {},
   "outputs": [
    {
     "name": "stdout",
     "output_type": "stream",
     "text": [
      "\n",
      "⚠️ No relevant local chunks found.\n",
      "🌐 Performing a live Internet search...\n",
      "\n",
      "🧠 Sending prompt to local LLM...\n",
      "\n",
      "🤖 LLM Response:\n",
      "\n",
      "Here’s how to handle leaf blight in betel vine in Odisha, based on the provided information:\n",
      "\n",
      "Based on the provided information, here’s a recommended approach to dealing with leaf blight in betel vine:\n",
      "\n",
      "1.  **Spray the affected areas:** After plucking the diseased plants, spray the affected areas with 0.2% Ziram or 0.5% Bordeaux mixture.\n",
      "2.  **Control measures include spraying insecticides like malathion, neem oil, and dichlorvos.**\n",
      "3.  **Control measures include spraying insecticides like malathion, neem oil, and dichlorvos.** \n",
      "4.  **Implement disease-free betel vine stalks.**\n",
      "5.  **Boroj (Special structure for betel vine cultivated area) should be in a well-drained area.**\n",
      "6.  **As a major disease discussed are foot rot, root rot, collar rot, leaf rot, ...**\n",
      "\n",
      "**Important Note:**  The provided snippets primarily focus on controlling fungal diseases.  While leaf blight is a fungal issue, the general advice still suggests employing insecticides for effective management.\n",
      "\n",
      "**Disclaimer:** *I am an AI Chatbot and this information is based on the provided snippets. It’s crucial to consult with agricultural experts and local authorities for specific recommendations tailored to the particular situation and region.*\n",
      "\n"
     ]
    }
   ],
   "source": [
    "answer_with_local_llm_rag(\"How to handle leaf blight in betel vine in Odhisa?\", model, collection)"
   ]
  },
  {
   "cell_type": "code",
   "execution_count": 161,
   "metadata": {},
   "outputs": [
    {
     "name": "stdout",
     "output_type": "stream",
     "text": [
      "\n",
      "⚠️ No relevant local chunks found.\n",
      "🌐 Performing a live Internet search...\n",
      "\n",
      "🧠 Sending prompt to local LLM...\n",
      "\n",
      "🤖 LLM Response:\n",
      "\n",
      "Based on the provided snippets, here’s how to handle leaf blight in betel vine in Odisha:\n",
      "\n",
      "**Control measures include spraying insecticides like malathion, neem oil, and dichlorvos.**\n",
      "\n",
      "The snippets suggest that you should focus on controlling the disease by spraying these insecticides.  Specifically, you should spray these insecticides after plucking the diseased leaves.\n",
      "\n"
     ]
    }
   ],
   "source": [
    "# answer_with_local_llm_rag(\"How to manage drought stress in groundnut cultivation?\", model, collection, threshold=0.6)\n",
    "answer_with_local_llm_rag(\"How to handle leaf blight in betel vine in Odhisa?\", model, collection, threshold=0.7)"
   ]
  },
  {
   "cell_type": "code",
   "execution_count": null,
   "metadata": {},
   "outputs": [],
   "source": []
  }
 ],
 "metadata": {
  "kernelspec": {
   "display_name": "kcc",
   "language": "python",
   "name": "python3"
  },
  "language_info": {
   "codemirror_mode": {
    "name": "ipython",
    "version": 3
   },
   "file_extension": ".py",
   "mimetype": "text/x-python",
   "name": "python",
   "nbconvert_exporter": "python",
   "pygments_lexer": "ipython3",
   "version": "3.10.16"
  }
 },
 "nbformat": 4,
 "nbformat_minor": 2
}
